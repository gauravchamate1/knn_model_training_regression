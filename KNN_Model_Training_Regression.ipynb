{
  "cells": [
    {
      "cell_type": "markdown",
      "id": "79a09415",
      "metadata": {
        "id": "79a09415"
      },
      "source": [
        "# KNN Regression"
      ]
    },
    {
      "cell_type": "code",
      "execution_count": null,
      "id": "d4ad38d8",
      "metadata": {
        "id": "d4ad38d8"
      },
      "outputs": [],
      "source": [
        "import pandas as pd\n",
        "import numpy as np\n",
        "\n",
        "from sklearn.neighbors import KNeighborsRegressor\n",
        "from sklearn.model_selection import train_test_split\n",
        "\n",
        "from sklearn.preprocessing import MinMaxScaler, StandardScaler\n",
        "from sklearn.model_selection import GridSearchCV, RandomizedSearchCV\n",
        "\n",
        "import matplotlib.pyplot as plt\n",
        "import seaborn as sns\n",
        "\n",
        "from sklearn.metrics import r2_score, mean_absolute_error, mean_squared_error"
      ]
    },
    {
      "cell_type": "code",
      "execution_count": null,
      "id": "257494f8",
      "metadata": {
        "id": "257494f8",
        "outputId": "ddf88ba0-da3e-421a-fb45-3963d65613e2"
      },
      "outputs": [
        {
          "data": {
            "text/html": [
              "<div>\n",
              "<style scoped>\n",
              "    .dataframe tbody tr th:only-of-type {\n",
              "        vertical-align: middle;\n",
              "    }\n",
              "\n",
              "    .dataframe tbody tr th {\n",
              "        vertical-align: top;\n",
              "    }\n",
              "\n",
              "    .dataframe thead th {\n",
              "        text-align: right;\n",
              "    }\n",
              "</style>\n",
              "<table border=\"1\" class=\"dataframe\">\n",
              "  <thead>\n",
              "    <tr style=\"text-align: right;\">\n",
              "      <th></th>\n",
              "      <th>Item_Identifier</th>\n",
              "      <th>Item_Weight</th>\n",
              "      <th>Item_Fat_Content</th>\n",
              "      <th>Item_Visibility</th>\n",
              "      <th>Item_Type</th>\n",
              "      <th>Item_MRP</th>\n",
              "      <th>Outlet_Identifier</th>\n",
              "      <th>Outlet_Establishment_Year</th>\n",
              "      <th>Outlet_Size</th>\n",
              "      <th>Outlet_Location_Type</th>\n",
              "      <th>Outlet_Type</th>\n",
              "      <th>Item_Outlet_Sales</th>\n",
              "    </tr>\n",
              "  </thead>\n",
              "  <tbody>\n",
              "    <tr>\n",
              "      <th>0</th>\n",
              "      <td>FDA15</td>\n",
              "      <td>9.30</td>\n",
              "      <td>Low Fat</td>\n",
              "      <td>0.016047</td>\n",
              "      <td>Dairy</td>\n",
              "      <td>249.8092</td>\n",
              "      <td>OUT049</td>\n",
              "      <td>1999</td>\n",
              "      <td>Medium</td>\n",
              "      <td>Tier 1</td>\n",
              "      <td>Supermarket Type1</td>\n",
              "      <td>3735.1380</td>\n",
              "    </tr>\n",
              "    <tr>\n",
              "      <th>1</th>\n",
              "      <td>DRC01</td>\n",
              "      <td>5.92</td>\n",
              "      <td>Regular</td>\n",
              "      <td>0.019278</td>\n",
              "      <td>Soft Drinks</td>\n",
              "      <td>48.2692</td>\n",
              "      <td>OUT018</td>\n",
              "      <td>2009</td>\n",
              "      <td>Medium</td>\n",
              "      <td>Tier 3</td>\n",
              "      <td>Supermarket Type2</td>\n",
              "      <td>443.4228</td>\n",
              "    </tr>\n",
              "    <tr>\n",
              "      <th>2</th>\n",
              "      <td>FDN15</td>\n",
              "      <td>17.50</td>\n",
              "      <td>Low Fat</td>\n",
              "      <td>0.016760</td>\n",
              "      <td>Meat</td>\n",
              "      <td>141.6180</td>\n",
              "      <td>OUT049</td>\n",
              "      <td>1999</td>\n",
              "      <td>Medium</td>\n",
              "      <td>Tier 1</td>\n",
              "      <td>Supermarket Type1</td>\n",
              "      <td>2097.2700</td>\n",
              "    </tr>\n",
              "    <tr>\n",
              "      <th>3</th>\n",
              "      <td>FDX07</td>\n",
              "      <td>19.20</td>\n",
              "      <td>Regular</td>\n",
              "      <td>0.000000</td>\n",
              "      <td>Fruits and Vegetables</td>\n",
              "      <td>182.0950</td>\n",
              "      <td>OUT010</td>\n",
              "      <td>1998</td>\n",
              "      <td>NaN</td>\n",
              "      <td>Tier 3</td>\n",
              "      <td>Grocery Store</td>\n",
              "      <td>732.3800</td>\n",
              "    </tr>\n",
              "    <tr>\n",
              "      <th>4</th>\n",
              "      <td>NCD19</td>\n",
              "      <td>8.93</td>\n",
              "      <td>Low Fat</td>\n",
              "      <td>0.000000</td>\n",
              "      <td>Household</td>\n",
              "      <td>53.8614</td>\n",
              "      <td>OUT013</td>\n",
              "      <td>1987</td>\n",
              "      <td>High</td>\n",
              "      <td>Tier 3</td>\n",
              "      <td>Supermarket Type1</td>\n",
              "      <td>994.7052</td>\n",
              "    </tr>\n",
              "  </tbody>\n",
              "</table>\n",
              "</div>"
            ],
            "text/plain": [
              "  Item_Identifier  Item_Weight Item_Fat_Content  Item_Visibility  \\\n",
              "0           FDA15         9.30          Low Fat         0.016047   \n",
              "1           DRC01         5.92          Regular         0.019278   \n",
              "2           FDN15        17.50          Low Fat         0.016760   \n",
              "3           FDX07        19.20          Regular         0.000000   \n",
              "4           NCD19         8.93          Low Fat         0.000000   \n",
              "\n",
              "               Item_Type  Item_MRP Outlet_Identifier  \\\n",
              "0                  Dairy  249.8092            OUT049   \n",
              "1            Soft Drinks   48.2692            OUT018   \n",
              "2                   Meat  141.6180            OUT049   \n",
              "3  Fruits and Vegetables  182.0950            OUT010   \n",
              "4              Household   53.8614            OUT013   \n",
              "\n",
              "   Outlet_Establishment_Year Outlet_Size Outlet_Location_Type  \\\n",
              "0                       1999      Medium               Tier 1   \n",
              "1                       2009      Medium               Tier 3   \n",
              "2                       1999      Medium               Tier 1   \n",
              "3                       1998         NaN               Tier 3   \n",
              "4                       1987        High               Tier 3   \n",
              "\n",
              "         Outlet_Type  Item_Outlet_Sales  \n",
              "0  Supermarket Type1          3735.1380  \n",
              "1  Supermarket Type2           443.4228  \n",
              "2  Supermarket Type1          2097.2700  \n",
              "3      Grocery Store           732.3800  \n",
              "4  Supermarket Type1           994.7052  "
            ]
          },
          "execution_count": 6,
          "metadata": {},
          "output_type": "execute_result"
        }
      ],
      "source": [
        "df = pd.read_csv(\"Train.csv\")\n",
        "df.head()"
      ]
    },
    {
      "cell_type": "code",
      "execution_count": null,
      "id": "5d2953ff",
      "metadata": {
        "id": "5d2953ff",
        "outputId": "bbcc461e-0055-40fa-8c75-9cb3e63b46c3"
      },
      "outputs": [
        {
          "name": "stdout",
          "output_type": "stream",
          "text": [
            "<class 'pandas.core.frame.DataFrame'>\n",
            "RangeIndex: 8523 entries, 0 to 8522\n",
            "Data columns (total 12 columns):\n",
            " #   Column                     Non-Null Count  Dtype  \n",
            "---  ------                     --------------  -----  \n",
            " 0   Item_Identifier            8523 non-null   object \n",
            " 1   Item_Weight                7060 non-null   float64\n",
            " 2   Item_Fat_Content           8523 non-null   object \n",
            " 3   Item_Visibility            8523 non-null   float64\n",
            " 4   Item_Type                  8523 non-null   object \n",
            " 5   Item_MRP                   8523 non-null   float64\n",
            " 6   Outlet_Identifier          8523 non-null   object \n",
            " 7   Outlet_Establishment_Year  8523 non-null   int64  \n",
            " 8   Outlet_Size                6113 non-null   object \n",
            " 9   Outlet_Location_Type       8523 non-null   object \n",
            " 10  Outlet_Type                8523 non-null   object \n",
            " 11  Item_Outlet_Sales          8523 non-null   float64\n",
            "dtypes: float64(4), int64(1), object(7)\n",
            "memory usage: 799.2+ KB\n"
          ]
        }
      ],
      "source": [
        "df.info()"
      ]
    },
    {
      "cell_type": "code",
      "execution_count": null,
      "id": "1cd2331c",
      "metadata": {
        "id": "1cd2331c",
        "outputId": "3f979d64-4bad-4de7-cfa6-7a3751e96693"
      },
      "outputs": [
        {
          "data": {
            "text/plain": [
              "Item_Identifier                 0\n",
              "Item_Weight                  1463\n",
              "Item_Fat_Content                0\n",
              "Item_Visibility                 0\n",
              "Item_Type                       0\n",
              "Item_MRP                        0\n",
              "Outlet_Identifier               0\n",
              "Outlet_Establishment_Year       0\n",
              "Outlet_Size                  2410\n",
              "Outlet_Location_Type            0\n",
              "Outlet_Type                     0\n",
              "Item_Outlet_Sales               0\n",
              "dtype: int64"
            ]
          },
          "execution_count": 8,
          "metadata": {},
          "output_type": "execute_result"
        }
      ],
      "source": [
        "df.isna().sum()"
      ]
    },
    {
      "cell_type": "code",
      "execution_count": null,
      "id": "cda87910",
      "metadata": {
        "id": "cda87910",
        "outputId": "2552d94f-eca5-4fb6-d2db-0fac185521a2"
      },
      "outputs": [
        {
          "data": {
            "text/plain": [
              "1559"
            ]
          },
          "execution_count": 9,
          "metadata": {},
          "output_type": "execute_result"
        }
      ],
      "source": [
        "len(df['Item_Identifier'].unique())"
      ]
    },
    {
      "cell_type": "markdown",
      "id": "df59ad2a",
      "metadata": {
        "id": "df59ad2a"
      },
      "source": [
        "### 1. Item_Weight"
      ]
    },
    {
      "cell_type": "code",
      "execution_count": null,
      "id": "97d1adcc",
      "metadata": {
        "id": "97d1adcc"
      },
      "outputs": [],
      "source": [
        "df['Item_Weight'].fillna(df['Item_Weight'].median(), inplace = True)"
      ]
    },
    {
      "cell_type": "code",
      "execution_count": null,
      "id": "64c5b99a",
      "metadata": {
        "id": "64c5b99a"
      },
      "outputs": [],
      "source": [
        "# df.info()"
      ]
    },
    {
      "cell_type": "markdown",
      "id": "38bcf9c8",
      "metadata": {
        "id": "38bcf9c8"
      },
      "source": [
        "### 2. Outlet_Identifier"
      ]
    },
    {
      "cell_type": "code",
      "execution_count": null,
      "id": "9a5ef5cc",
      "metadata": {
        "id": "9a5ef5cc",
        "outputId": "fb4419a2-f21f-4df7-eb32-1f4ff6760673"
      },
      "outputs": [
        {
          "data": {
            "text/plain": [
              "OUT027    935\n",
              "OUT013    932\n",
              "OUT035    930\n",
              "OUT046    930\n",
              "OUT049    930\n",
              "OUT045    929\n",
              "OUT018    928\n",
              "OUT017    926\n",
              "OUT010    555\n",
              "OUT019    528\n",
              "Name: Outlet_Identifier, dtype: int64"
            ]
          },
          "execution_count": 16,
          "metadata": {},
          "output_type": "execute_result"
        }
      ],
      "source": [
        "df['Outlet_Identifier'].value_counts()"
      ]
    },
    {
      "cell_type": "code",
      "execution_count": null,
      "id": "91a18426",
      "metadata": {
        "id": "91a18426"
      },
      "outputs": [],
      "source": [
        "Outlet_Identifier_df = pd.get_dummies(df['Outlet_Identifier'],drop_first=True,\n",
        "                                      prefix = 'Outlet_Identifier')\n"
      ]
    },
    {
      "cell_type": "markdown",
      "id": "80f3b493",
      "metadata": {
        "id": "80f3b493"
      },
      "source": [
        "### 3. Item_Fat_Content"
      ]
    },
    {
      "cell_type": "code",
      "execution_count": null,
      "id": "efb8d6fd",
      "metadata": {
        "id": "efb8d6fd",
        "outputId": "7f36f269-0be3-49b7-c181-8d6f4b2335c6"
      },
      "outputs": [
        {
          "data": {
            "text/plain": [
              "Low Fat    5089\n",
              "Regular    2889\n",
              "LF          316\n",
              "reg         117\n",
              "low fat     112\n",
              "Name: Item_Fat_Content, dtype: int64"
            ]
          },
          "execution_count": 18,
          "metadata": {},
          "output_type": "execute_result"
        }
      ],
      "source": [
        "df['Item_Fat_Content'].value_counts()"
      ]
    },
    {
      "cell_type": "code",
      "execution_count": null,
      "id": "aff4adae",
      "metadata": {
        "id": "aff4adae"
      },
      "outputs": [],
      "source": [
        "df['Item_Fat_Content'].replace({'Low Fat':0,'Regular':1,'LF':0,'reg':1,'low fat':0},inplace = True)"
      ]
    },
    {
      "cell_type": "code",
      "execution_count": null,
      "id": "1944d7d5",
      "metadata": {
        "id": "1944d7d5",
        "outputId": "0fd1fddd-40c8-4753-f8e4-dd4230e9cb51"
      },
      "outputs": [
        {
          "data": {
            "text/html": [
              "<div>\n",
              "<style scoped>\n",
              "    .dataframe tbody tr th:only-of-type {\n",
              "        vertical-align: middle;\n",
              "    }\n",
              "\n",
              "    .dataframe tbody tr th {\n",
              "        vertical-align: top;\n",
              "    }\n",
              "\n",
              "    .dataframe thead th {\n",
              "        text-align: right;\n",
              "    }\n",
              "</style>\n",
              "<table border=\"1\" class=\"dataframe\">\n",
              "  <thead>\n",
              "    <tr style=\"text-align: right;\">\n",
              "      <th></th>\n",
              "      <th>Item_Identifier</th>\n",
              "      <th>Item_Weight</th>\n",
              "      <th>Item_Fat_Content</th>\n",
              "      <th>Item_Visibility</th>\n",
              "      <th>Item_Type</th>\n",
              "      <th>Item_MRP</th>\n",
              "      <th>Outlet_Identifier</th>\n",
              "      <th>Outlet_Establishment_Year</th>\n",
              "      <th>Outlet_Size</th>\n",
              "      <th>Outlet_Location_Type</th>\n",
              "      <th>Outlet_Type</th>\n",
              "      <th>Item_Outlet_Sales</th>\n",
              "    </tr>\n",
              "  </thead>\n",
              "  <tbody>\n",
              "    <tr>\n",
              "      <th>0</th>\n",
              "      <td>FDA15</td>\n",
              "      <td>9.30</td>\n",
              "      <td>0</td>\n",
              "      <td>0.016047</td>\n",
              "      <td>Dairy</td>\n",
              "      <td>249.8092</td>\n",
              "      <td>OUT049</td>\n",
              "      <td>1999</td>\n",
              "      <td>Medium</td>\n",
              "      <td>Tier 1</td>\n",
              "      <td>Supermarket Type1</td>\n",
              "      <td>3735.1380</td>\n",
              "    </tr>\n",
              "    <tr>\n",
              "      <th>1</th>\n",
              "      <td>DRC01</td>\n",
              "      <td>5.92</td>\n",
              "      <td>1</td>\n",
              "      <td>0.019278</td>\n",
              "      <td>Soft Drinks</td>\n",
              "      <td>48.2692</td>\n",
              "      <td>OUT018</td>\n",
              "      <td>2009</td>\n",
              "      <td>Medium</td>\n",
              "      <td>Tier 3</td>\n",
              "      <td>Supermarket Type2</td>\n",
              "      <td>443.4228</td>\n",
              "    </tr>\n",
              "  </tbody>\n",
              "</table>\n",
              "</div>"
            ],
            "text/plain": [
              "  Item_Identifier  Item_Weight  Item_Fat_Content  Item_Visibility  \\\n",
              "0           FDA15         9.30                 0         0.016047   \n",
              "1           DRC01         5.92                 1         0.019278   \n",
              "\n",
              "     Item_Type  Item_MRP Outlet_Identifier  Outlet_Establishment_Year  \\\n",
              "0        Dairy  249.8092            OUT049                       1999   \n",
              "1  Soft Drinks   48.2692            OUT018                       2009   \n",
              "\n",
              "  Outlet_Size Outlet_Location_Type        Outlet_Type  Item_Outlet_Sales  \n",
              "0      Medium               Tier 1  Supermarket Type1          3735.1380  \n",
              "1      Medium               Tier 3  Supermarket Type2           443.4228  "
            ]
          },
          "execution_count": 20,
          "metadata": {},
          "output_type": "execute_result"
        }
      ],
      "source": [
        "df.head(2)"
      ]
    },
    {
      "cell_type": "code",
      "execution_count": null,
      "id": "b2c5c3b8",
      "metadata": {
        "id": "b2c5c3b8",
        "outputId": "a4ce9a72-b9ad-4586-f7c7-953ef43e5b62"
      },
      "outputs": [
        {
          "name": "stdout",
          "output_type": "stream",
          "text": [
            "<class 'pandas.core.frame.DataFrame'>\n",
            "RangeIndex: 8523 entries, 0 to 8522\n",
            "Data columns (total 12 columns):\n",
            " #   Column                     Non-Null Count  Dtype  \n",
            "---  ------                     --------------  -----  \n",
            " 0   Item_Identifier            8523 non-null   object \n",
            " 1   Item_Weight                8523 non-null   float64\n",
            " 2   Item_Fat_Content           8523 non-null   int64  \n",
            " 3   Item_Visibility            8523 non-null   float64\n",
            " 4   Item_Type                  8523 non-null   object \n",
            " 5   Item_MRP                   8523 non-null   float64\n",
            " 6   Outlet_Identifier          8523 non-null   object \n",
            " 7   Outlet_Establishment_Year  8523 non-null   int64  \n",
            " 8   Outlet_Size                6113 non-null   object \n",
            " 9   Outlet_Location_Type       8523 non-null   object \n",
            " 10  Outlet_Type                8523 non-null   object \n",
            " 11  Item_Outlet_Sales          8523 non-null   float64\n",
            "dtypes: float64(4), int64(2), object(6)\n",
            "memory usage: 799.2+ KB\n"
          ]
        }
      ],
      "source": [
        "df.info()"
      ]
    },
    {
      "cell_type": "markdown",
      "id": "bfd7f472",
      "metadata": {
        "id": "bfd7f472"
      },
      "source": [
        "### 4. Item_Type"
      ]
    },
    {
      "cell_type": "code",
      "execution_count": null,
      "id": "acd32b3c",
      "metadata": {
        "id": "acd32b3c",
        "outputId": "fd69710f-2b40-44a2-b088-e239e7a78517"
      },
      "outputs": [
        {
          "data": {
            "text/plain": [
              "Fruits and Vegetables    1232\n",
              "Snack Foods              1200\n",
              "Household                 910\n",
              "Frozen Foods              856\n",
              "Dairy                     682\n",
              "Canned                    649\n",
              "Baking Goods              648\n",
              "Health and Hygiene        520\n",
              "Soft Drinks               445\n",
              "Meat                      425\n",
              "Breads                    251\n",
              "Hard Drinks               214\n",
              "Others                    169\n",
              "Starchy Foods             148\n",
              "Breakfast                 110\n",
              "Seafood                    64\n",
              "Name: Item_Type, dtype: int64"
            ]
          },
          "execution_count": 22,
          "metadata": {},
          "output_type": "execute_result"
        }
      ],
      "source": [
        "df['Item_Type'].value_counts()"
      ]
    },
    {
      "cell_type": "code",
      "execution_count": null,
      "id": "038332f5",
      "metadata": {
        "id": "038332f5"
      },
      "outputs": [],
      "source": [
        "Item_Type_df = pd.get_dummies(df['Item_Type'],prefix = 'Item_Type', drop_first=True)"
      ]
    },
    {
      "cell_type": "code",
      "execution_count": null,
      "id": "b84c64be",
      "metadata": {
        "id": "b84c64be",
        "outputId": "c7681d9b-c181-4396-c195-418f225326c1"
      },
      "outputs": [
        {
          "data": {
            "text/html": [
              "<div>\n",
              "<style scoped>\n",
              "    .dataframe tbody tr th:only-of-type {\n",
              "        vertical-align: middle;\n",
              "    }\n",
              "\n",
              "    .dataframe tbody tr th {\n",
              "        vertical-align: top;\n",
              "    }\n",
              "\n",
              "    .dataframe thead th {\n",
              "        text-align: right;\n",
              "    }\n",
              "</style>\n",
              "<table border=\"1\" class=\"dataframe\">\n",
              "  <thead>\n",
              "    <tr style=\"text-align: right;\">\n",
              "      <th></th>\n",
              "      <th>Item_Type_Breads</th>\n",
              "      <th>Item_Type_Breakfast</th>\n",
              "      <th>Item_Type_Canned</th>\n",
              "      <th>Item_Type_Dairy</th>\n",
              "      <th>Item_Type_Frozen Foods</th>\n",
              "      <th>Item_Type_Fruits and Vegetables</th>\n",
              "      <th>Item_Type_Hard Drinks</th>\n",
              "      <th>Item_Type_Health and Hygiene</th>\n",
              "      <th>Item_Type_Household</th>\n",
              "      <th>Item_Type_Meat</th>\n",
              "      <th>Item_Type_Others</th>\n",
              "      <th>Item_Type_Seafood</th>\n",
              "      <th>Item_Type_Snack Foods</th>\n",
              "      <th>Item_Type_Soft Drinks</th>\n",
              "      <th>Item_Type_Starchy Foods</th>\n",
              "    </tr>\n",
              "  </thead>\n",
              "  <tbody>\n",
              "    <tr>\n",
              "      <th>0</th>\n",
              "      <td>0</td>\n",
              "      <td>0</td>\n",
              "      <td>0</td>\n",
              "      <td>1</td>\n",
              "      <td>0</td>\n",
              "      <td>0</td>\n",
              "      <td>0</td>\n",
              "      <td>0</td>\n",
              "      <td>0</td>\n",
              "      <td>0</td>\n",
              "      <td>0</td>\n",
              "      <td>0</td>\n",
              "      <td>0</td>\n",
              "      <td>0</td>\n",
              "      <td>0</td>\n",
              "    </tr>\n",
              "    <tr>\n",
              "      <th>1</th>\n",
              "      <td>0</td>\n",
              "      <td>0</td>\n",
              "      <td>0</td>\n",
              "      <td>0</td>\n",
              "      <td>0</td>\n",
              "      <td>0</td>\n",
              "      <td>0</td>\n",
              "      <td>0</td>\n",
              "      <td>0</td>\n",
              "      <td>0</td>\n",
              "      <td>0</td>\n",
              "      <td>0</td>\n",
              "      <td>0</td>\n",
              "      <td>1</td>\n",
              "      <td>0</td>\n",
              "    </tr>\n",
              "    <tr>\n",
              "      <th>2</th>\n",
              "      <td>0</td>\n",
              "      <td>0</td>\n",
              "      <td>0</td>\n",
              "      <td>0</td>\n",
              "      <td>0</td>\n",
              "      <td>0</td>\n",
              "      <td>0</td>\n",
              "      <td>0</td>\n",
              "      <td>0</td>\n",
              "      <td>1</td>\n",
              "      <td>0</td>\n",
              "      <td>0</td>\n",
              "      <td>0</td>\n",
              "      <td>0</td>\n",
              "      <td>0</td>\n",
              "    </tr>\n",
              "    <tr>\n",
              "      <th>3</th>\n",
              "      <td>0</td>\n",
              "      <td>0</td>\n",
              "      <td>0</td>\n",
              "      <td>0</td>\n",
              "      <td>0</td>\n",
              "      <td>1</td>\n",
              "      <td>0</td>\n",
              "      <td>0</td>\n",
              "      <td>0</td>\n",
              "      <td>0</td>\n",
              "      <td>0</td>\n",
              "      <td>0</td>\n",
              "      <td>0</td>\n",
              "      <td>0</td>\n",
              "      <td>0</td>\n",
              "    </tr>\n",
              "    <tr>\n",
              "      <th>4</th>\n",
              "      <td>0</td>\n",
              "      <td>0</td>\n",
              "      <td>0</td>\n",
              "      <td>0</td>\n",
              "      <td>0</td>\n",
              "      <td>0</td>\n",
              "      <td>0</td>\n",
              "      <td>0</td>\n",
              "      <td>1</td>\n",
              "      <td>0</td>\n",
              "      <td>0</td>\n",
              "      <td>0</td>\n",
              "      <td>0</td>\n",
              "      <td>0</td>\n",
              "      <td>0</td>\n",
              "    </tr>\n",
              "    <tr>\n",
              "      <th>...</th>\n",
              "      <td>...</td>\n",
              "      <td>...</td>\n",
              "      <td>...</td>\n",
              "      <td>...</td>\n",
              "      <td>...</td>\n",
              "      <td>...</td>\n",
              "      <td>...</td>\n",
              "      <td>...</td>\n",
              "      <td>...</td>\n",
              "      <td>...</td>\n",
              "      <td>...</td>\n",
              "      <td>...</td>\n",
              "      <td>...</td>\n",
              "      <td>...</td>\n",
              "      <td>...</td>\n",
              "    </tr>\n",
              "    <tr>\n",
              "      <th>8518</th>\n",
              "      <td>0</td>\n",
              "      <td>0</td>\n",
              "      <td>0</td>\n",
              "      <td>0</td>\n",
              "      <td>0</td>\n",
              "      <td>0</td>\n",
              "      <td>0</td>\n",
              "      <td>0</td>\n",
              "      <td>0</td>\n",
              "      <td>0</td>\n",
              "      <td>0</td>\n",
              "      <td>0</td>\n",
              "      <td>1</td>\n",
              "      <td>0</td>\n",
              "      <td>0</td>\n",
              "    </tr>\n",
              "    <tr>\n",
              "      <th>8519</th>\n",
              "      <td>0</td>\n",
              "      <td>0</td>\n",
              "      <td>0</td>\n",
              "      <td>0</td>\n",
              "      <td>0</td>\n",
              "      <td>0</td>\n",
              "      <td>0</td>\n",
              "      <td>0</td>\n",
              "      <td>0</td>\n",
              "      <td>0</td>\n",
              "      <td>0</td>\n",
              "      <td>0</td>\n",
              "      <td>0</td>\n",
              "      <td>0</td>\n",
              "      <td>0</td>\n",
              "    </tr>\n",
              "    <tr>\n",
              "      <th>8520</th>\n",
              "      <td>0</td>\n",
              "      <td>0</td>\n",
              "      <td>0</td>\n",
              "      <td>0</td>\n",
              "      <td>0</td>\n",
              "      <td>0</td>\n",
              "      <td>0</td>\n",
              "      <td>1</td>\n",
              "      <td>0</td>\n",
              "      <td>0</td>\n",
              "      <td>0</td>\n",
              "      <td>0</td>\n",
              "      <td>0</td>\n",
              "      <td>0</td>\n",
              "      <td>0</td>\n",
              "    </tr>\n",
              "    <tr>\n",
              "      <th>8521</th>\n",
              "      <td>0</td>\n",
              "      <td>0</td>\n",
              "      <td>0</td>\n",
              "      <td>0</td>\n",
              "      <td>0</td>\n",
              "      <td>0</td>\n",
              "      <td>0</td>\n",
              "      <td>0</td>\n",
              "      <td>0</td>\n",
              "      <td>0</td>\n",
              "      <td>0</td>\n",
              "      <td>0</td>\n",
              "      <td>1</td>\n",
              "      <td>0</td>\n",
              "      <td>0</td>\n",
              "    </tr>\n",
              "    <tr>\n",
              "      <th>8522</th>\n",
              "      <td>0</td>\n",
              "      <td>0</td>\n",
              "      <td>0</td>\n",
              "      <td>0</td>\n",
              "      <td>0</td>\n",
              "      <td>0</td>\n",
              "      <td>0</td>\n",
              "      <td>0</td>\n",
              "      <td>0</td>\n",
              "      <td>0</td>\n",
              "      <td>0</td>\n",
              "      <td>0</td>\n",
              "      <td>0</td>\n",
              "      <td>1</td>\n",
              "      <td>0</td>\n",
              "    </tr>\n",
              "  </tbody>\n",
              "</table>\n",
              "<p>8523 rows × 15 columns</p>\n",
              "</div>"
            ],
            "text/plain": [
              "      Item_Type_Breads  Item_Type_Breakfast  Item_Type_Canned  \\\n",
              "0                    0                    0                 0   \n",
              "1                    0                    0                 0   \n",
              "2                    0                    0                 0   \n",
              "3                    0                    0                 0   \n",
              "4                    0                    0                 0   \n",
              "...                ...                  ...               ...   \n",
              "8518                 0                    0                 0   \n",
              "8519                 0                    0                 0   \n",
              "8520                 0                    0                 0   \n",
              "8521                 0                    0                 0   \n",
              "8522                 0                    0                 0   \n",
              "\n",
              "      Item_Type_Dairy  Item_Type_Frozen Foods  \\\n",
              "0                   1                       0   \n",
              "1                   0                       0   \n",
              "2                   0                       0   \n",
              "3                   0                       0   \n",
              "4                   0                       0   \n",
              "...               ...                     ...   \n",
              "8518                0                       0   \n",
              "8519                0                       0   \n",
              "8520                0                       0   \n",
              "8521                0                       0   \n",
              "8522                0                       0   \n",
              "\n",
              "      Item_Type_Fruits and Vegetables  Item_Type_Hard Drinks  \\\n",
              "0                                   0                      0   \n",
              "1                                   0                      0   \n",
              "2                                   0                      0   \n",
              "3                                   1                      0   \n",
              "4                                   0                      0   \n",
              "...                               ...                    ...   \n",
              "8518                                0                      0   \n",
              "8519                                0                      0   \n",
              "8520                                0                      0   \n",
              "8521                                0                      0   \n",
              "8522                                0                      0   \n",
              "\n",
              "      Item_Type_Health and Hygiene  Item_Type_Household  Item_Type_Meat  \\\n",
              "0                                0                    0               0   \n",
              "1                                0                    0               0   \n",
              "2                                0                    0               1   \n",
              "3                                0                    0               0   \n",
              "4                                0                    1               0   \n",
              "...                            ...                  ...             ...   \n",
              "8518                             0                    0               0   \n",
              "8519                             0                    0               0   \n",
              "8520                             1                    0               0   \n",
              "8521                             0                    0               0   \n",
              "8522                             0                    0               0   \n",
              "\n",
              "      Item_Type_Others  Item_Type_Seafood  Item_Type_Snack Foods  \\\n",
              "0                    0                  0                      0   \n",
              "1                    0                  0                      0   \n",
              "2                    0                  0                      0   \n",
              "3                    0                  0                      0   \n",
              "4                    0                  0                      0   \n",
              "...                ...                ...                    ...   \n",
              "8518                 0                  0                      1   \n",
              "8519                 0                  0                      0   \n",
              "8520                 0                  0                      0   \n",
              "8521                 0                  0                      1   \n",
              "8522                 0                  0                      0   \n",
              "\n",
              "      Item_Type_Soft Drinks  Item_Type_Starchy Foods  \n",
              "0                         0                        0  \n",
              "1                         1                        0  \n",
              "2                         0                        0  \n",
              "3                         0                        0  \n",
              "4                         0                        0  \n",
              "...                     ...                      ...  \n",
              "8518                      0                        0  \n",
              "8519                      0                        0  \n",
              "8520                      0                        0  \n",
              "8521                      0                        0  \n",
              "8522                      1                        0  \n",
              "\n",
              "[8523 rows x 15 columns]"
            ]
          },
          "execution_count": 24,
          "metadata": {},
          "output_type": "execute_result"
        }
      ],
      "source": [
        "Item_Type_df"
      ]
    },
    {
      "cell_type": "code",
      "execution_count": null,
      "id": "8e2bde7e",
      "metadata": {
        "id": "8e2bde7e",
        "outputId": "174ad5ef-1906-4b2f-b5e7-f6e5c01bd1d6"
      },
      "outputs": [
        {
          "name": "stdout",
          "output_type": "stream",
          "text": [
            "<class 'pandas.core.frame.DataFrame'>\n",
            "RangeIndex: 8523 entries, 0 to 8522\n",
            "Data columns (total 12 columns):\n",
            " #   Column                     Non-Null Count  Dtype  \n",
            "---  ------                     --------------  -----  \n",
            " 0   Item_Identifier            8523 non-null   object \n",
            " 1   Item_Weight                8523 non-null   float64\n",
            " 2   Item_Fat_Content           8523 non-null   int64  \n",
            " 3   Item_Visibility            8523 non-null   float64\n",
            " 4   Item_Type                  8523 non-null   object \n",
            " 5   Item_MRP                   8523 non-null   float64\n",
            " 6   Outlet_Identifier          8523 non-null   object \n",
            " 7   Outlet_Establishment_Year  8523 non-null   int64  \n",
            " 8   Outlet_Size                6113 non-null   object \n",
            " 9   Outlet_Location_Type       8523 non-null   object \n",
            " 10  Outlet_Type                8523 non-null   object \n",
            " 11  Item_Outlet_Sales          8523 non-null   float64\n",
            "dtypes: float64(4), int64(2), object(6)\n",
            "memory usage: 799.2+ KB\n"
          ]
        }
      ],
      "source": [
        "df.info()"
      ]
    },
    {
      "cell_type": "markdown",
      "id": "d31d410c",
      "metadata": {
        "id": "d31d410c"
      },
      "source": [
        "### 5. Outlet_Size"
      ]
    },
    {
      "cell_type": "code",
      "execution_count": null,
      "id": "46843608",
      "metadata": {
        "id": "46843608",
        "outputId": "01cf14db-cf15-4305-911f-479ecfa54d1b"
      },
      "outputs": [
        {
          "data": {
            "text/plain": [
              "Medium    2793\n",
              "Small     2388\n",
              "High       932\n",
              "Name: Outlet_Size, dtype: int64"
            ]
          },
          "execution_count": 26,
          "metadata": {},
          "output_type": "execute_result"
        }
      ],
      "source": [
        "df['Outlet_Size'].value_counts()"
      ]
    },
    {
      "cell_type": "code",
      "execution_count": null,
      "id": "b18d9dea",
      "metadata": {
        "id": "b18d9dea"
      },
      "outputs": [],
      "source": [
        "df['Outlet_Size'].replace({'Small':0,'Medium':1,'High':2},inplace =True)"
      ]
    },
    {
      "cell_type": "code",
      "execution_count": null,
      "id": "09f24b2c",
      "metadata": {
        "id": "09f24b2c"
      },
      "outputs": [],
      "source": [
        "df['Outlet_Size'].fillna(1,inplace=True)"
      ]
    },
    {
      "cell_type": "code",
      "execution_count": null,
      "id": "c2c68958",
      "metadata": {
        "id": "c2c68958",
        "outputId": "f40d1218-6889-4cec-c156-37cd7cd1c4d5"
      },
      "outputs": [
        {
          "name": "stdout",
          "output_type": "stream",
          "text": [
            "<class 'pandas.core.frame.DataFrame'>\n",
            "RangeIndex: 8523 entries, 0 to 8522\n",
            "Data columns (total 12 columns):\n",
            " #   Column                     Non-Null Count  Dtype  \n",
            "---  ------                     --------------  -----  \n",
            " 0   Item_Identifier            8523 non-null   object \n",
            " 1   Item_Weight                8523 non-null   float64\n",
            " 2   Item_Fat_Content           8523 non-null   int64  \n",
            " 3   Item_Visibility            8523 non-null   float64\n",
            " 4   Item_Type                  8523 non-null   object \n",
            " 5   Item_MRP                   8523 non-null   float64\n",
            " 6   Outlet_Identifier          8523 non-null   object \n",
            " 7   Outlet_Establishment_Year  8523 non-null   int64  \n",
            " 8   Outlet_Size                8523 non-null   float64\n",
            " 9   Outlet_Location_Type       8523 non-null   object \n",
            " 10  Outlet_Type                8523 non-null   object \n",
            " 11  Item_Outlet_Sales          8523 non-null   float64\n",
            "dtypes: float64(5), int64(2), object(5)\n",
            "memory usage: 799.2+ KB\n"
          ]
        }
      ],
      "source": [
        "df.info()"
      ]
    },
    {
      "cell_type": "markdown",
      "id": "9efd1879",
      "metadata": {
        "id": "9efd1879"
      },
      "source": [
        "### 6. Outlet_Location_Type"
      ]
    },
    {
      "cell_type": "code",
      "execution_count": null,
      "id": "ca92ab2c",
      "metadata": {
        "id": "ca92ab2c",
        "outputId": "67e2c573-efb9-4793-fa8c-5213276de862"
      },
      "outputs": [
        {
          "data": {
            "text/plain": [
              "Tier 3    3350\n",
              "Tier 2    2785\n",
              "Tier 1    2388\n",
              "Name: Outlet_Location_Type, dtype: int64"
            ]
          },
          "execution_count": 31,
          "metadata": {},
          "output_type": "execute_result"
        }
      ],
      "source": [
        "df['Outlet_Location_Type'].value_counts()"
      ]
    },
    {
      "cell_type": "code",
      "execution_count": null,
      "id": "c21410c2",
      "metadata": {
        "id": "c21410c2"
      },
      "outputs": [],
      "source": [
        "df['Outlet_Location_Type'].replace({'Tier 1':0,'Tier 2':1,'Tier 3':2},inplace = True)"
      ]
    },
    {
      "cell_type": "code",
      "execution_count": null,
      "id": "f94c12e6",
      "metadata": {
        "id": "f94c12e6",
        "outputId": "43b68acc-6d6e-48a4-cb01-17399b1e7e1b"
      },
      "outputs": [
        {
          "data": {
            "text/html": [
              "<div>\n",
              "<style scoped>\n",
              "    .dataframe tbody tr th:only-of-type {\n",
              "        vertical-align: middle;\n",
              "    }\n",
              "\n",
              "    .dataframe tbody tr th {\n",
              "        vertical-align: top;\n",
              "    }\n",
              "\n",
              "    .dataframe thead th {\n",
              "        text-align: right;\n",
              "    }\n",
              "</style>\n",
              "<table border=\"1\" class=\"dataframe\">\n",
              "  <thead>\n",
              "    <tr style=\"text-align: right;\">\n",
              "      <th></th>\n",
              "      <th>Item_Identifier</th>\n",
              "      <th>Item_Weight</th>\n",
              "      <th>Item_Fat_Content</th>\n",
              "      <th>Item_Visibility</th>\n",
              "      <th>Item_Type</th>\n",
              "      <th>Item_MRP</th>\n",
              "      <th>Outlet_Identifier</th>\n",
              "      <th>Outlet_Establishment_Year</th>\n",
              "      <th>Outlet_Size</th>\n",
              "      <th>Outlet_Location_Type</th>\n",
              "      <th>Outlet_Type</th>\n",
              "      <th>Item_Outlet_Sales</th>\n",
              "    </tr>\n",
              "  </thead>\n",
              "  <tbody>\n",
              "    <tr>\n",
              "      <th>0</th>\n",
              "      <td>FDA15</td>\n",
              "      <td>9.30</td>\n",
              "      <td>0</td>\n",
              "      <td>0.016047</td>\n",
              "      <td>Dairy</td>\n",
              "      <td>249.8092</td>\n",
              "      <td>OUT049</td>\n",
              "      <td>1999</td>\n",
              "      <td>1.0</td>\n",
              "      <td>0</td>\n",
              "      <td>Supermarket Type1</td>\n",
              "      <td>3735.1380</td>\n",
              "    </tr>\n",
              "    <tr>\n",
              "      <th>1</th>\n",
              "      <td>DRC01</td>\n",
              "      <td>5.92</td>\n",
              "      <td>1</td>\n",
              "      <td>0.019278</td>\n",
              "      <td>Soft Drinks</td>\n",
              "      <td>48.2692</td>\n",
              "      <td>OUT018</td>\n",
              "      <td>2009</td>\n",
              "      <td>1.0</td>\n",
              "      <td>2</td>\n",
              "      <td>Supermarket Type2</td>\n",
              "      <td>443.4228</td>\n",
              "    </tr>\n",
              "  </tbody>\n",
              "</table>\n",
              "</div>"
            ],
            "text/plain": [
              "  Item_Identifier  Item_Weight  Item_Fat_Content  Item_Visibility  \\\n",
              "0           FDA15         9.30                 0         0.016047   \n",
              "1           DRC01         5.92                 1         0.019278   \n",
              "\n",
              "     Item_Type  Item_MRP Outlet_Identifier  Outlet_Establishment_Year  \\\n",
              "0        Dairy  249.8092            OUT049                       1999   \n",
              "1  Soft Drinks   48.2692            OUT018                       2009   \n",
              "\n",
              "   Outlet_Size  Outlet_Location_Type        Outlet_Type  Item_Outlet_Sales  \n",
              "0          1.0                     0  Supermarket Type1          3735.1380  \n",
              "1          1.0                     2  Supermarket Type2           443.4228  "
            ]
          },
          "execution_count": 33,
          "metadata": {},
          "output_type": "execute_result"
        }
      ],
      "source": [
        "df.head(2)"
      ]
    },
    {
      "cell_type": "code",
      "execution_count": null,
      "id": "589fba21",
      "metadata": {
        "id": "589fba21",
        "outputId": "360c5b6e-a79f-432a-8105-f4642990f3f7"
      },
      "outputs": [
        {
          "name": "stdout",
          "output_type": "stream",
          "text": [
            "<class 'pandas.core.frame.DataFrame'>\n",
            "RangeIndex: 8523 entries, 0 to 8522\n",
            "Data columns (total 12 columns):\n",
            " #   Column                     Non-Null Count  Dtype  \n",
            "---  ------                     --------------  -----  \n",
            " 0   Item_Identifier            8523 non-null   object \n",
            " 1   Item_Weight                8523 non-null   float64\n",
            " 2   Item_Fat_Content           8523 non-null   int64  \n",
            " 3   Item_Visibility            8523 non-null   float64\n",
            " 4   Item_Type                  8523 non-null   object \n",
            " 5   Item_MRP                   8523 non-null   float64\n",
            " 6   Outlet_Identifier          8523 non-null   object \n",
            " 7   Outlet_Establishment_Year  8523 non-null   int64  \n",
            " 8   Outlet_Size                8523 non-null   float64\n",
            " 9   Outlet_Location_Type       8523 non-null   int64  \n",
            " 10  Outlet_Type                8523 non-null   object \n",
            " 11  Item_Outlet_Sales          8523 non-null   float64\n",
            "dtypes: float64(5), int64(3), object(4)\n",
            "memory usage: 799.2+ KB\n"
          ]
        }
      ],
      "source": [
        "df.info()"
      ]
    },
    {
      "cell_type": "markdown",
      "id": "0c4b0f94",
      "metadata": {
        "id": "0c4b0f94"
      },
      "source": [
        "### 7. Outlet_Type "
      ]
    },
    {
      "cell_type": "code",
      "execution_count": null,
      "id": "6d8e6ea3",
      "metadata": {
        "id": "6d8e6ea3",
        "outputId": "870cc361-0058-45e7-de4a-0cca6c5c48d7"
      },
      "outputs": [
        {
          "data": {
            "text/plain": [
              "Supermarket Type1    5577\n",
              "Grocery Store        1083\n",
              "Supermarket Type3     935\n",
              "Supermarket Type2     928\n",
              "Name: Outlet_Type, dtype: int64"
            ]
          },
          "execution_count": 36,
          "metadata": {},
          "output_type": "execute_result"
        }
      ],
      "source": [
        "df['Outlet_Type'].value_counts()"
      ]
    },
    {
      "cell_type": "code",
      "execution_count": null,
      "id": "fb362c2d",
      "metadata": {
        "id": "fb362c2d"
      },
      "outputs": [],
      "source": [
        "Outlet_Type_df = pd.get_dummies(df['Outlet_Type'],drop_first=True,prefix = 'Outlet_Type')"
      ]
    },
    {
      "cell_type": "code",
      "execution_count": null,
      "id": "b08fc30e",
      "metadata": {
        "id": "b08fc30e",
        "outputId": "7c4c7590-d504-49ef-c4e6-d646fb765014"
      },
      "outputs": [
        {
          "data": {
            "text/html": [
              "<div>\n",
              "<style scoped>\n",
              "    .dataframe tbody tr th:only-of-type {\n",
              "        vertical-align: middle;\n",
              "    }\n",
              "\n",
              "    .dataframe tbody tr th {\n",
              "        vertical-align: top;\n",
              "    }\n",
              "\n",
              "    .dataframe thead th {\n",
              "        text-align: right;\n",
              "    }\n",
              "</style>\n",
              "<table border=\"1\" class=\"dataframe\">\n",
              "  <thead>\n",
              "    <tr style=\"text-align: right;\">\n",
              "      <th></th>\n",
              "      <th>Outlet_Type_Supermarket Type1</th>\n",
              "      <th>Outlet_Type_Supermarket Type2</th>\n",
              "      <th>Outlet_Type_Supermarket Type3</th>\n",
              "    </tr>\n",
              "  </thead>\n",
              "  <tbody>\n",
              "    <tr>\n",
              "      <th>0</th>\n",
              "      <td>1</td>\n",
              "      <td>0</td>\n",
              "      <td>0</td>\n",
              "    </tr>\n",
              "    <tr>\n",
              "      <th>1</th>\n",
              "      <td>0</td>\n",
              "      <td>1</td>\n",
              "      <td>0</td>\n",
              "    </tr>\n",
              "    <tr>\n",
              "      <th>2</th>\n",
              "      <td>1</td>\n",
              "      <td>0</td>\n",
              "      <td>0</td>\n",
              "    </tr>\n",
              "    <tr>\n",
              "      <th>3</th>\n",
              "      <td>0</td>\n",
              "      <td>0</td>\n",
              "      <td>0</td>\n",
              "    </tr>\n",
              "    <tr>\n",
              "      <th>4</th>\n",
              "      <td>1</td>\n",
              "      <td>0</td>\n",
              "      <td>0</td>\n",
              "    </tr>\n",
              "    <tr>\n",
              "      <th>...</th>\n",
              "      <td>...</td>\n",
              "      <td>...</td>\n",
              "      <td>...</td>\n",
              "    </tr>\n",
              "    <tr>\n",
              "      <th>8518</th>\n",
              "      <td>1</td>\n",
              "      <td>0</td>\n",
              "      <td>0</td>\n",
              "    </tr>\n",
              "    <tr>\n",
              "      <th>8519</th>\n",
              "      <td>1</td>\n",
              "      <td>0</td>\n",
              "      <td>0</td>\n",
              "    </tr>\n",
              "    <tr>\n",
              "      <th>8520</th>\n",
              "      <td>1</td>\n",
              "      <td>0</td>\n",
              "      <td>0</td>\n",
              "    </tr>\n",
              "    <tr>\n",
              "      <th>8521</th>\n",
              "      <td>0</td>\n",
              "      <td>1</td>\n",
              "      <td>0</td>\n",
              "    </tr>\n",
              "    <tr>\n",
              "      <th>8522</th>\n",
              "      <td>1</td>\n",
              "      <td>0</td>\n",
              "      <td>0</td>\n",
              "    </tr>\n",
              "  </tbody>\n",
              "</table>\n",
              "<p>8523 rows × 3 columns</p>\n",
              "</div>"
            ],
            "text/plain": [
              "      Outlet_Type_Supermarket Type1  Outlet_Type_Supermarket Type2  \\\n",
              "0                                 1                              0   \n",
              "1                                 0                              1   \n",
              "2                                 1                              0   \n",
              "3                                 0                              0   \n",
              "4                                 1                              0   \n",
              "...                             ...                            ...   \n",
              "8518                              1                              0   \n",
              "8519                              1                              0   \n",
              "8520                              1                              0   \n",
              "8521                              0                              1   \n",
              "8522                              1                              0   \n",
              "\n",
              "      Outlet_Type_Supermarket Type3  \n",
              "0                                 0  \n",
              "1                                 0  \n",
              "2                                 0  \n",
              "3                                 0  \n",
              "4                                 0  \n",
              "...                             ...  \n",
              "8518                              0  \n",
              "8519                              0  \n",
              "8520                              0  \n",
              "8521                              0  \n",
              "8522                              0  \n",
              "\n",
              "[8523 rows x 3 columns]"
            ]
          },
          "execution_count": 38,
          "metadata": {},
          "output_type": "execute_result"
        }
      ],
      "source": [
        "Outlet_Type_df"
      ]
    },
    {
      "cell_type": "code",
      "execution_count": null,
      "id": "536ae9d0",
      "metadata": {
        "id": "536ae9d0",
        "outputId": "c9279cfe-08a0-42d7-fc4d-a0caf126cf4b"
      },
      "outputs": [
        {
          "name": "stdout",
          "output_type": "stream",
          "text": [
            "<class 'pandas.core.frame.DataFrame'>\n",
            "RangeIndex: 8523 entries, 0 to 8522\n",
            "Data columns (total 12 columns):\n",
            " #   Column                     Non-Null Count  Dtype  \n",
            "---  ------                     --------------  -----  \n",
            " 0   Item_Identifier            8523 non-null   object \n",
            " 1   Item_Weight                8523 non-null   float64\n",
            " 2   Item_Fat_Content           8523 non-null   int64  \n",
            " 3   Item_Visibility            8523 non-null   float64\n",
            " 4   Item_Type                  8523 non-null   object \n",
            " 5   Item_MRP                   8523 non-null   float64\n",
            " 6   Outlet_Identifier          8523 non-null   object \n",
            " 7   Outlet_Establishment_Year  8523 non-null   int64  \n",
            " 8   Outlet_Size                8523 non-null   float64\n",
            " 9   Outlet_Location_Type       8523 non-null   int64  \n",
            " 10  Outlet_Type                8523 non-null   object \n",
            " 11  Item_Outlet_Sales          8523 non-null   float64\n",
            "dtypes: float64(5), int64(3), object(4)\n",
            "memory usage: 799.2+ KB\n"
          ]
        }
      ],
      "source": [
        "df.info()"
      ]
    },
    {
      "cell_type": "code",
      "execution_count": null,
      "id": "564d0e0f",
      "metadata": {
        "id": "564d0e0f"
      },
      "outputs": [],
      "source": [
        "df.drop(['Item_Identifier','Item_Type','Outlet_Identifier','Outlet_Type'], axis=1,inplace = True)"
      ]
    },
    {
      "cell_type": "code",
      "execution_count": null,
      "id": "67210652",
      "metadata": {
        "id": "67210652",
        "outputId": "9f71cf04-2a33-4490-9114-e6f6b714a3f9"
      },
      "outputs": [
        {
          "name": "stdout",
          "output_type": "stream",
          "text": [
            "<class 'pandas.core.frame.DataFrame'>\n",
            "RangeIndex: 8523 entries, 0 to 8522\n",
            "Data columns (total 8 columns):\n",
            " #   Column                     Non-Null Count  Dtype  \n",
            "---  ------                     --------------  -----  \n",
            " 0   Item_Weight                8523 non-null   float64\n",
            " 1   Item_Fat_Content           8523 non-null   int64  \n",
            " 2   Item_Visibility            8523 non-null   float64\n",
            " 3   Item_MRP                   8523 non-null   float64\n",
            " 4   Outlet_Establishment_Year  8523 non-null   int64  \n",
            " 5   Outlet_Size                8523 non-null   float64\n",
            " 6   Outlet_Location_Type       8523 non-null   int64  \n",
            " 7   Item_Outlet_Sales          8523 non-null   float64\n",
            "dtypes: float64(5), int64(3)\n",
            "memory usage: 532.8 KB\n"
          ]
        }
      ],
      "source": [
        "df.info()"
      ]
    },
    {
      "cell_type": "code",
      "execution_count": null,
      "id": "30aff553",
      "metadata": {
        "id": "30aff553",
        "outputId": "8b0445c6-cc73-4667-8e29-18835ffdb8c5"
      },
      "outputs": [
        {
          "data": {
            "text/html": [
              "<div>\n",
              "<style scoped>\n",
              "    .dataframe tbody tr th:only-of-type {\n",
              "        vertical-align: middle;\n",
              "    }\n",
              "\n",
              "    .dataframe tbody tr th {\n",
              "        vertical-align: top;\n",
              "    }\n",
              "\n",
              "    .dataframe thead th {\n",
              "        text-align: right;\n",
              "    }\n",
              "</style>\n",
              "<table border=\"1\" class=\"dataframe\">\n",
              "  <thead>\n",
              "    <tr style=\"text-align: right;\">\n",
              "      <th></th>\n",
              "      <th>Item_Weight</th>\n",
              "      <th>Item_Fat_Content</th>\n",
              "      <th>Item_Visibility</th>\n",
              "      <th>Item_MRP</th>\n",
              "      <th>Outlet_Establishment_Year</th>\n",
              "      <th>Outlet_Size</th>\n",
              "      <th>Outlet_Location_Type</th>\n",
              "      <th>Item_Outlet_Sales</th>\n",
              "      <th>Outlet_Identifier_OUT013</th>\n",
              "      <th>Outlet_Identifier_OUT017</th>\n",
              "      <th>...</th>\n",
              "      <th>Item_Type_Household</th>\n",
              "      <th>Item_Type_Meat</th>\n",
              "      <th>Item_Type_Others</th>\n",
              "      <th>Item_Type_Seafood</th>\n",
              "      <th>Item_Type_Snack Foods</th>\n",
              "      <th>Item_Type_Soft Drinks</th>\n",
              "      <th>Item_Type_Starchy Foods</th>\n",
              "      <th>Outlet_Type_Supermarket Type1</th>\n",
              "      <th>Outlet_Type_Supermarket Type2</th>\n",
              "      <th>Outlet_Type_Supermarket Type3</th>\n",
              "    </tr>\n",
              "  </thead>\n",
              "  <tbody>\n",
              "    <tr>\n",
              "      <th>0</th>\n",
              "      <td>9.300</td>\n",
              "      <td>0</td>\n",
              "      <td>0.016047</td>\n",
              "      <td>249.8092</td>\n",
              "      <td>1999</td>\n",
              "      <td>1.0</td>\n",
              "      <td>0</td>\n",
              "      <td>3735.1380</td>\n",
              "      <td>0</td>\n",
              "      <td>0</td>\n",
              "      <td>...</td>\n",
              "      <td>0</td>\n",
              "      <td>0</td>\n",
              "      <td>0</td>\n",
              "      <td>0</td>\n",
              "      <td>0</td>\n",
              "      <td>0</td>\n",
              "      <td>0</td>\n",
              "      <td>1</td>\n",
              "      <td>0</td>\n",
              "      <td>0</td>\n",
              "    </tr>\n",
              "    <tr>\n",
              "      <th>1</th>\n",
              "      <td>5.920</td>\n",
              "      <td>1</td>\n",
              "      <td>0.019278</td>\n",
              "      <td>48.2692</td>\n",
              "      <td>2009</td>\n",
              "      <td>1.0</td>\n",
              "      <td>2</td>\n",
              "      <td>443.4228</td>\n",
              "      <td>0</td>\n",
              "      <td>0</td>\n",
              "      <td>...</td>\n",
              "      <td>0</td>\n",
              "      <td>0</td>\n",
              "      <td>0</td>\n",
              "      <td>0</td>\n",
              "      <td>0</td>\n",
              "      <td>1</td>\n",
              "      <td>0</td>\n",
              "      <td>0</td>\n",
              "      <td>1</td>\n",
              "      <td>0</td>\n",
              "    </tr>\n",
              "    <tr>\n",
              "      <th>2</th>\n",
              "      <td>17.500</td>\n",
              "      <td>0</td>\n",
              "      <td>0.016760</td>\n",
              "      <td>141.6180</td>\n",
              "      <td>1999</td>\n",
              "      <td>1.0</td>\n",
              "      <td>0</td>\n",
              "      <td>2097.2700</td>\n",
              "      <td>0</td>\n",
              "      <td>0</td>\n",
              "      <td>...</td>\n",
              "      <td>0</td>\n",
              "      <td>1</td>\n",
              "      <td>0</td>\n",
              "      <td>0</td>\n",
              "      <td>0</td>\n",
              "      <td>0</td>\n",
              "      <td>0</td>\n",
              "      <td>1</td>\n",
              "      <td>0</td>\n",
              "      <td>0</td>\n",
              "    </tr>\n",
              "    <tr>\n",
              "      <th>3</th>\n",
              "      <td>19.200</td>\n",
              "      <td>1</td>\n",
              "      <td>0.000000</td>\n",
              "      <td>182.0950</td>\n",
              "      <td>1998</td>\n",
              "      <td>1.0</td>\n",
              "      <td>2</td>\n",
              "      <td>732.3800</td>\n",
              "      <td>0</td>\n",
              "      <td>0</td>\n",
              "      <td>...</td>\n",
              "      <td>0</td>\n",
              "      <td>0</td>\n",
              "      <td>0</td>\n",
              "      <td>0</td>\n",
              "      <td>0</td>\n",
              "      <td>0</td>\n",
              "      <td>0</td>\n",
              "      <td>0</td>\n",
              "      <td>0</td>\n",
              "      <td>0</td>\n",
              "    </tr>\n",
              "    <tr>\n",
              "      <th>4</th>\n",
              "      <td>8.930</td>\n",
              "      <td>0</td>\n",
              "      <td>0.000000</td>\n",
              "      <td>53.8614</td>\n",
              "      <td>1987</td>\n",
              "      <td>2.0</td>\n",
              "      <td>2</td>\n",
              "      <td>994.7052</td>\n",
              "      <td>1</td>\n",
              "      <td>0</td>\n",
              "      <td>...</td>\n",
              "      <td>1</td>\n",
              "      <td>0</td>\n",
              "      <td>0</td>\n",
              "      <td>0</td>\n",
              "      <td>0</td>\n",
              "      <td>0</td>\n",
              "      <td>0</td>\n",
              "      <td>1</td>\n",
              "      <td>0</td>\n",
              "      <td>0</td>\n",
              "    </tr>\n",
              "    <tr>\n",
              "      <th>...</th>\n",
              "      <td>...</td>\n",
              "      <td>...</td>\n",
              "      <td>...</td>\n",
              "      <td>...</td>\n",
              "      <td>...</td>\n",
              "      <td>...</td>\n",
              "      <td>...</td>\n",
              "      <td>...</td>\n",
              "      <td>...</td>\n",
              "      <td>...</td>\n",
              "      <td>...</td>\n",
              "      <td>...</td>\n",
              "      <td>...</td>\n",
              "      <td>...</td>\n",
              "      <td>...</td>\n",
              "      <td>...</td>\n",
              "      <td>...</td>\n",
              "      <td>...</td>\n",
              "      <td>...</td>\n",
              "      <td>...</td>\n",
              "      <td>...</td>\n",
              "    </tr>\n",
              "    <tr>\n",
              "      <th>8518</th>\n",
              "      <td>6.865</td>\n",
              "      <td>0</td>\n",
              "      <td>0.056783</td>\n",
              "      <td>214.5218</td>\n",
              "      <td>1987</td>\n",
              "      <td>2.0</td>\n",
              "      <td>2</td>\n",
              "      <td>2778.3834</td>\n",
              "      <td>1</td>\n",
              "      <td>0</td>\n",
              "      <td>...</td>\n",
              "      <td>0</td>\n",
              "      <td>0</td>\n",
              "      <td>0</td>\n",
              "      <td>0</td>\n",
              "      <td>1</td>\n",
              "      <td>0</td>\n",
              "      <td>0</td>\n",
              "      <td>1</td>\n",
              "      <td>0</td>\n",
              "      <td>0</td>\n",
              "    </tr>\n",
              "    <tr>\n",
              "      <th>8519</th>\n",
              "      <td>8.380</td>\n",
              "      <td>1</td>\n",
              "      <td>0.046982</td>\n",
              "      <td>108.1570</td>\n",
              "      <td>2002</td>\n",
              "      <td>1.0</td>\n",
              "      <td>1</td>\n",
              "      <td>549.2850</td>\n",
              "      <td>0</td>\n",
              "      <td>0</td>\n",
              "      <td>...</td>\n",
              "      <td>0</td>\n",
              "      <td>0</td>\n",
              "      <td>0</td>\n",
              "      <td>0</td>\n",
              "      <td>0</td>\n",
              "      <td>0</td>\n",
              "      <td>0</td>\n",
              "      <td>1</td>\n",
              "      <td>0</td>\n",
              "      <td>0</td>\n",
              "    </tr>\n",
              "    <tr>\n",
              "      <th>8520</th>\n",
              "      <td>10.600</td>\n",
              "      <td>0</td>\n",
              "      <td>0.035186</td>\n",
              "      <td>85.1224</td>\n",
              "      <td>2004</td>\n",
              "      <td>0.0</td>\n",
              "      <td>1</td>\n",
              "      <td>1193.1136</td>\n",
              "      <td>0</td>\n",
              "      <td>0</td>\n",
              "      <td>...</td>\n",
              "      <td>0</td>\n",
              "      <td>0</td>\n",
              "      <td>0</td>\n",
              "      <td>0</td>\n",
              "      <td>0</td>\n",
              "      <td>0</td>\n",
              "      <td>0</td>\n",
              "      <td>1</td>\n",
              "      <td>0</td>\n",
              "      <td>0</td>\n",
              "    </tr>\n",
              "    <tr>\n",
              "      <th>8521</th>\n",
              "      <td>7.210</td>\n",
              "      <td>1</td>\n",
              "      <td>0.145221</td>\n",
              "      <td>103.1332</td>\n",
              "      <td>2009</td>\n",
              "      <td>1.0</td>\n",
              "      <td>2</td>\n",
              "      <td>1845.5976</td>\n",
              "      <td>0</td>\n",
              "      <td>0</td>\n",
              "      <td>...</td>\n",
              "      <td>0</td>\n",
              "      <td>0</td>\n",
              "      <td>0</td>\n",
              "      <td>0</td>\n",
              "      <td>1</td>\n",
              "      <td>0</td>\n",
              "      <td>0</td>\n",
              "      <td>0</td>\n",
              "      <td>1</td>\n",
              "      <td>0</td>\n",
              "    </tr>\n",
              "    <tr>\n",
              "      <th>8522</th>\n",
              "      <td>14.800</td>\n",
              "      <td>0</td>\n",
              "      <td>0.044878</td>\n",
              "      <td>75.4670</td>\n",
              "      <td>1997</td>\n",
              "      <td>0.0</td>\n",
              "      <td>0</td>\n",
              "      <td>765.6700</td>\n",
              "      <td>0</td>\n",
              "      <td>0</td>\n",
              "      <td>...</td>\n",
              "      <td>0</td>\n",
              "      <td>0</td>\n",
              "      <td>0</td>\n",
              "      <td>0</td>\n",
              "      <td>0</td>\n",
              "      <td>1</td>\n",
              "      <td>0</td>\n",
              "      <td>1</td>\n",
              "      <td>0</td>\n",
              "      <td>0</td>\n",
              "    </tr>\n",
              "  </tbody>\n",
              "</table>\n",
              "<p>8523 rows × 35 columns</p>\n",
              "</div>"
            ],
            "text/plain": [
              "      Item_Weight  Item_Fat_Content  Item_Visibility  Item_MRP  \\\n",
              "0           9.300                 0         0.016047  249.8092   \n",
              "1           5.920                 1         0.019278   48.2692   \n",
              "2          17.500                 0         0.016760  141.6180   \n",
              "3          19.200                 1         0.000000  182.0950   \n",
              "4           8.930                 0         0.000000   53.8614   \n",
              "...           ...               ...              ...       ...   \n",
              "8518        6.865                 0         0.056783  214.5218   \n",
              "8519        8.380                 1         0.046982  108.1570   \n",
              "8520       10.600                 0         0.035186   85.1224   \n",
              "8521        7.210                 1         0.145221  103.1332   \n",
              "8522       14.800                 0         0.044878   75.4670   \n",
              "\n",
              "      Outlet_Establishment_Year  Outlet_Size  Outlet_Location_Type  \\\n",
              "0                          1999          1.0                     0   \n",
              "1                          2009          1.0                     2   \n",
              "2                          1999          1.0                     0   \n",
              "3                          1998          1.0                     2   \n",
              "4                          1987          2.0                     2   \n",
              "...                         ...          ...                   ...   \n",
              "8518                       1987          2.0                     2   \n",
              "8519                       2002          1.0                     1   \n",
              "8520                       2004          0.0                     1   \n",
              "8521                       2009          1.0                     2   \n",
              "8522                       1997          0.0                     0   \n",
              "\n",
              "      Item_Outlet_Sales  Outlet_Identifier_OUT013  Outlet_Identifier_OUT017  \\\n",
              "0             3735.1380                         0                         0   \n",
              "1              443.4228                         0                         0   \n",
              "2             2097.2700                         0                         0   \n",
              "3              732.3800                         0                         0   \n",
              "4              994.7052                         1                         0   \n",
              "...                 ...                       ...                       ...   \n",
              "8518          2778.3834                         1                         0   \n",
              "8519           549.2850                         0                         0   \n",
              "8520          1193.1136                         0                         0   \n",
              "8521          1845.5976                         0                         0   \n",
              "8522           765.6700                         0                         0   \n",
              "\n",
              "      ...  Item_Type_Household  Item_Type_Meat  Item_Type_Others  \\\n",
              "0     ...                    0               0                 0   \n",
              "1     ...                    0               0                 0   \n",
              "2     ...                    0               1                 0   \n",
              "3     ...                    0               0                 0   \n",
              "4     ...                    1               0                 0   \n",
              "...   ...                  ...             ...               ...   \n",
              "8518  ...                    0               0                 0   \n",
              "8519  ...                    0               0                 0   \n",
              "8520  ...                    0               0                 0   \n",
              "8521  ...                    0               0                 0   \n",
              "8522  ...                    0               0                 0   \n",
              "\n",
              "      Item_Type_Seafood  Item_Type_Snack Foods  Item_Type_Soft Drinks  \\\n",
              "0                     0                      0                      0   \n",
              "1                     0                      0                      1   \n",
              "2                     0                      0                      0   \n",
              "3                     0                      0                      0   \n",
              "4                     0                      0                      0   \n",
              "...                 ...                    ...                    ...   \n",
              "8518                  0                      1                      0   \n",
              "8519                  0                      0                      0   \n",
              "8520                  0                      0                      0   \n",
              "8521                  0                      1                      0   \n",
              "8522                  0                      0                      1   \n",
              "\n",
              "      Item_Type_Starchy Foods  Outlet_Type_Supermarket Type1  \\\n",
              "0                           0                              1   \n",
              "1                           0                              0   \n",
              "2                           0                              1   \n",
              "3                           0                              0   \n",
              "4                           0                              1   \n",
              "...                       ...                            ...   \n",
              "8518                        0                              1   \n",
              "8519                        0                              1   \n",
              "8520                        0                              1   \n",
              "8521                        0                              0   \n",
              "8522                        0                              1   \n",
              "\n",
              "      Outlet_Type_Supermarket Type2  Outlet_Type_Supermarket Type3  \n",
              "0                                 0                              0  \n",
              "1                                 1                              0  \n",
              "2                                 0                              0  \n",
              "3                                 0                              0  \n",
              "4                                 0                              0  \n",
              "...                             ...                            ...  \n",
              "8518                              0                              0  \n",
              "8519                              0                              0  \n",
              "8520                              0                              0  \n",
              "8521                              1                              0  \n",
              "8522                              0                              0  \n",
              "\n",
              "[8523 rows x 35 columns]"
            ]
          },
          "execution_count": 42,
          "metadata": {},
          "output_type": "execute_result"
        }
      ],
      "source": [
        "df_list = [df,Outlet_Identifier_df,Item_Type_df,Outlet_Type_df]\n",
        "df = pd.concat(df_list, axis = 1)\n",
        "df"
      ]
    },
    {
      "cell_type": "code",
      "execution_count": null,
      "id": "f4fc660d",
      "metadata": {
        "id": "f4fc660d",
        "outputId": "56c041c7-2874-43d7-8a5c-ab0392fa9735"
      },
      "outputs": [
        {
          "name": "stdout",
          "output_type": "stream",
          "text": [
            "<class 'pandas.core.frame.DataFrame'>\n",
            "RangeIndex: 8523 entries, 0 to 8522\n",
            "Data columns (total 35 columns):\n",
            " #   Column                           Non-Null Count  Dtype  \n",
            "---  ------                           --------------  -----  \n",
            " 0   Item_Weight                      8523 non-null   float64\n",
            " 1   Item_Fat_Content                 8523 non-null   int64  \n",
            " 2   Item_Visibility                  8523 non-null   float64\n",
            " 3   Item_MRP                         8523 non-null   float64\n",
            " 4   Outlet_Establishment_Year        8523 non-null   int64  \n",
            " 5   Outlet_Size                      8523 non-null   float64\n",
            " 6   Outlet_Location_Type             8523 non-null   int64  \n",
            " 7   Item_Outlet_Sales                8523 non-null   float64\n",
            " 8   Outlet_Identifier_OUT013         8523 non-null   uint8  \n",
            " 9   Outlet_Identifier_OUT017         8523 non-null   uint8  \n",
            " 10  Outlet_Identifier_OUT018         8523 non-null   uint8  \n",
            " 11  Outlet_Identifier_OUT019         8523 non-null   uint8  \n",
            " 12  Outlet_Identifier_OUT027         8523 non-null   uint8  \n",
            " 13  Outlet_Identifier_OUT035         8523 non-null   uint8  \n",
            " 14  Outlet_Identifier_OUT045         8523 non-null   uint8  \n",
            " 15  Outlet_Identifier_OUT046         8523 non-null   uint8  \n",
            " 16  Outlet_Identifier_OUT049         8523 non-null   uint8  \n",
            " 17  Item_Type_Breads                 8523 non-null   uint8  \n",
            " 18  Item_Type_Breakfast              8523 non-null   uint8  \n",
            " 19  Item_Type_Canned                 8523 non-null   uint8  \n",
            " 20  Item_Type_Dairy                  8523 non-null   uint8  \n",
            " 21  Item_Type_Frozen Foods           8523 non-null   uint8  \n",
            " 22  Item_Type_Fruits and Vegetables  8523 non-null   uint8  \n",
            " 23  Item_Type_Hard Drinks            8523 non-null   uint8  \n",
            " 24  Item_Type_Health and Hygiene     8523 non-null   uint8  \n",
            " 25  Item_Type_Household              8523 non-null   uint8  \n",
            " 26  Item_Type_Meat                   8523 non-null   uint8  \n",
            " 27  Item_Type_Others                 8523 non-null   uint8  \n",
            " 28  Item_Type_Seafood                8523 non-null   uint8  \n",
            " 29  Item_Type_Snack Foods            8523 non-null   uint8  \n",
            " 30  Item_Type_Soft Drinks            8523 non-null   uint8  \n",
            " 31  Item_Type_Starchy Foods          8523 non-null   uint8  \n",
            " 32  Outlet_Type_Supermarket Type1    8523 non-null   uint8  \n",
            " 33  Outlet_Type_Supermarket Type2    8523 non-null   uint8  \n",
            " 34  Outlet_Type_Supermarket Type3    8523 non-null   uint8  \n",
            "dtypes: float64(5), int64(3), uint8(27)\n",
            "memory usage: 757.5 KB\n"
          ]
        }
      ],
      "source": [
        "df.info()"
      ]
    },
    {
      "cell_type": "code",
      "execution_count": null,
      "id": "789933b9",
      "metadata": {
        "id": "789933b9"
      },
      "outputs": [],
      "source": [
        "df['EST_YEAR'] = 2022 - df['Outlet_Establishment_Year']\n",
        "# df['EST_YEAR']"
      ]
    },
    {
      "cell_type": "code",
      "execution_count": null,
      "id": "97b10cef",
      "metadata": {
        "id": "97b10cef"
      },
      "outputs": [],
      "source": [
        "df.drop(['Outlet_Establishment_Year'],axis = 1, inplace = True)"
      ]
    },
    {
      "cell_type": "markdown",
      "id": "448a0642",
      "metadata": {
        "id": "448a0642"
      },
      "source": [
        " df.info()"
      ]
    },
    {
      "cell_type": "code",
      "execution_count": null,
      "id": "b19dbee2",
      "metadata": {
        "id": "b19dbee2"
      },
      "outputs": [],
      "source": [
        "x = df.drop('Item_Outlet_Sales', axis = 1)\n",
        "y = df['Item_Outlet_Sales']"
      ]
    },
    {
      "cell_type": "markdown",
      "id": "03c97899",
      "metadata": {
        "id": "03c97899"
      },
      "source": [
        "# MinMax Scaler"
      ]
    },
    {
      "cell_type": "code",
      "execution_count": null,
      "id": "ff924bc4",
      "metadata": {
        "id": "ff924bc4",
        "outputId": "d92b2c1a-90f9-446f-f98c-f11c92f279e6"
      },
      "outputs": [
        {
          "data": {
            "text/html": [
              "<div>\n",
              "<style scoped>\n",
              "    .dataframe tbody tr th:only-of-type {\n",
              "        vertical-align: middle;\n",
              "    }\n",
              "\n",
              "    .dataframe tbody tr th {\n",
              "        vertical-align: top;\n",
              "    }\n",
              "\n",
              "    .dataframe thead th {\n",
              "        text-align: right;\n",
              "    }\n",
              "</style>\n",
              "<table border=\"1\" class=\"dataframe\">\n",
              "  <thead>\n",
              "    <tr style=\"text-align: right;\">\n",
              "      <th></th>\n",
              "      <th>Item_Weight</th>\n",
              "      <th>Item_Fat_Content</th>\n",
              "      <th>Item_Visibility</th>\n",
              "      <th>Item_MRP</th>\n",
              "      <th>Outlet_Size</th>\n",
              "      <th>Outlet_Location_Type</th>\n",
              "      <th>Outlet_Identifier_OUT013</th>\n",
              "      <th>Outlet_Identifier_OUT017</th>\n",
              "      <th>Outlet_Identifier_OUT018</th>\n",
              "      <th>Outlet_Identifier_OUT019</th>\n",
              "      <th>...</th>\n",
              "      <th>Item_Type_Meat</th>\n",
              "      <th>Item_Type_Others</th>\n",
              "      <th>Item_Type_Seafood</th>\n",
              "      <th>Item_Type_Snack Foods</th>\n",
              "      <th>Item_Type_Soft Drinks</th>\n",
              "      <th>Item_Type_Starchy Foods</th>\n",
              "      <th>Outlet_Type_Supermarket Type1</th>\n",
              "      <th>Outlet_Type_Supermarket Type2</th>\n",
              "      <th>Outlet_Type_Supermarket Type3</th>\n",
              "      <th>EST_YEAR</th>\n",
              "    </tr>\n",
              "  </thead>\n",
              "  <tbody>\n",
              "    <tr>\n",
              "      <th>0</th>\n",
              "      <td>0.282525</td>\n",
              "      <td>0.0</td>\n",
              "      <td>0.048866</td>\n",
              "      <td>0.927507</td>\n",
              "      <td>0.5</td>\n",
              "      <td>0.0</td>\n",
              "      <td>0.0</td>\n",
              "      <td>0.0</td>\n",
              "      <td>0.0</td>\n",
              "      <td>0.0</td>\n",
              "      <td>...</td>\n",
              "      <td>0.0</td>\n",
              "      <td>0.0</td>\n",
              "      <td>0.0</td>\n",
              "      <td>0.0</td>\n",
              "      <td>0.0</td>\n",
              "      <td>0.0</td>\n",
              "      <td>1.0</td>\n",
              "      <td>0.0</td>\n",
              "      <td>0.0</td>\n",
              "      <td>0.416667</td>\n",
              "    </tr>\n",
              "    <tr>\n",
              "      <th>1</th>\n",
              "      <td>0.081274</td>\n",
              "      <td>1.0</td>\n",
              "      <td>0.058705</td>\n",
              "      <td>0.072068</td>\n",
              "      <td>0.5</td>\n",
              "      <td>1.0</td>\n",
              "      <td>0.0</td>\n",
              "      <td>0.0</td>\n",
              "      <td>1.0</td>\n",
              "      <td>0.0</td>\n",
              "      <td>...</td>\n",
              "      <td>0.0</td>\n",
              "      <td>0.0</td>\n",
              "      <td>0.0</td>\n",
              "      <td>0.0</td>\n",
              "      <td>1.0</td>\n",
              "      <td>0.0</td>\n",
              "      <td>0.0</td>\n",
              "      <td>1.0</td>\n",
              "      <td>0.0</td>\n",
              "      <td>0.000000</td>\n",
              "    </tr>\n",
              "    <tr>\n",
              "      <th>2</th>\n",
              "      <td>0.770765</td>\n",
              "      <td>0.0</td>\n",
              "      <td>0.051037</td>\n",
              "      <td>0.468288</td>\n",
              "      <td>0.5</td>\n",
              "      <td>0.0</td>\n",
              "      <td>0.0</td>\n",
              "      <td>0.0</td>\n",
              "      <td>0.0</td>\n",
              "      <td>0.0</td>\n",
              "      <td>...</td>\n",
              "      <td>1.0</td>\n",
              "      <td>0.0</td>\n",
              "      <td>0.0</td>\n",
              "      <td>0.0</td>\n",
              "      <td>0.0</td>\n",
              "      <td>0.0</td>\n",
              "      <td>1.0</td>\n",
              "      <td>0.0</td>\n",
              "      <td>0.0</td>\n",
              "      <td>0.416667</td>\n",
              "    </tr>\n",
              "    <tr>\n",
              "      <th>3</th>\n",
              "      <td>0.871986</td>\n",
              "      <td>1.0</td>\n",
              "      <td>0.000000</td>\n",
              "      <td>0.640093</td>\n",
              "      <td>0.5</td>\n",
              "      <td>1.0</td>\n",
              "      <td>0.0</td>\n",
              "      <td>0.0</td>\n",
              "      <td>0.0</td>\n",
              "      <td>0.0</td>\n",
              "      <td>...</td>\n",
              "      <td>0.0</td>\n",
              "      <td>0.0</td>\n",
              "      <td>0.0</td>\n",
              "      <td>0.0</td>\n",
              "      <td>0.0</td>\n",
              "      <td>0.0</td>\n",
              "      <td>0.0</td>\n",
              "      <td>0.0</td>\n",
              "      <td>0.0</td>\n",
              "      <td>0.458333</td>\n",
              "    </tr>\n",
              "    <tr>\n",
              "      <th>4</th>\n",
              "      <td>0.260494</td>\n",
              "      <td>0.0</td>\n",
              "      <td>0.000000</td>\n",
              "      <td>0.095805</td>\n",
              "      <td>1.0</td>\n",
              "      <td>1.0</td>\n",
              "      <td>1.0</td>\n",
              "      <td>0.0</td>\n",
              "      <td>0.0</td>\n",
              "      <td>0.0</td>\n",
              "      <td>...</td>\n",
              "      <td>0.0</td>\n",
              "      <td>0.0</td>\n",
              "      <td>0.0</td>\n",
              "      <td>0.0</td>\n",
              "      <td>0.0</td>\n",
              "      <td>0.0</td>\n",
              "      <td>1.0</td>\n",
              "      <td>0.0</td>\n",
              "      <td>0.0</td>\n",
              "      <td>0.916667</td>\n",
              "    </tr>\n",
              "    <tr>\n",
              "      <th>...</th>\n",
              "      <td>...</td>\n",
              "      <td>...</td>\n",
              "      <td>...</td>\n",
              "      <td>...</td>\n",
              "      <td>...</td>\n",
              "      <td>...</td>\n",
              "      <td>...</td>\n",
              "      <td>...</td>\n",
              "      <td>...</td>\n",
              "      <td>...</td>\n",
              "      <td>...</td>\n",
              "      <td>...</td>\n",
              "      <td>...</td>\n",
              "      <td>...</td>\n",
              "      <td>...</td>\n",
              "      <td>...</td>\n",
              "      <td>...</td>\n",
              "      <td>...</td>\n",
              "      <td>...</td>\n",
              "      <td>...</td>\n",
              "      <td>...</td>\n",
              "    </tr>\n",
              "    <tr>\n",
              "      <th>8518</th>\n",
              "      <td>0.137541</td>\n",
              "      <td>0.0</td>\n",
              "      <td>0.172914</td>\n",
              "      <td>0.777729</td>\n",
              "      <td>1.0</td>\n",
              "      <td>1.0</td>\n",
              "      <td>1.0</td>\n",
              "      <td>0.0</td>\n",
              "      <td>0.0</td>\n",
              "      <td>0.0</td>\n",
              "      <td>...</td>\n",
              "      <td>0.0</td>\n",
              "      <td>0.0</td>\n",
              "      <td>0.0</td>\n",
              "      <td>1.0</td>\n",
              "      <td>0.0</td>\n",
              "      <td>0.0</td>\n",
              "      <td>1.0</td>\n",
              "      <td>0.0</td>\n",
              "      <td>0.0</td>\n",
              "      <td>0.916667</td>\n",
              "    </tr>\n",
              "    <tr>\n",
              "      <th>8519</th>\n",
              "      <td>0.227746</td>\n",
              "      <td>1.0</td>\n",
              "      <td>0.143069</td>\n",
              "      <td>0.326263</td>\n",
              "      <td>0.5</td>\n",
              "      <td>0.5</td>\n",
              "      <td>0.0</td>\n",
              "      <td>0.0</td>\n",
              "      <td>0.0</td>\n",
              "      <td>0.0</td>\n",
              "      <td>...</td>\n",
              "      <td>0.0</td>\n",
              "      <td>0.0</td>\n",
              "      <td>0.0</td>\n",
              "      <td>0.0</td>\n",
              "      <td>0.0</td>\n",
              "      <td>0.0</td>\n",
              "      <td>1.0</td>\n",
              "      <td>0.0</td>\n",
              "      <td>0.0</td>\n",
              "      <td>0.291667</td>\n",
              "    </tr>\n",
              "    <tr>\n",
              "      <th>8520</th>\n",
              "      <td>0.359929</td>\n",
              "      <td>0.0</td>\n",
              "      <td>0.107148</td>\n",
              "      <td>0.228492</td>\n",
              "      <td>0.0</td>\n",
              "      <td>0.5</td>\n",
              "      <td>0.0</td>\n",
              "      <td>0.0</td>\n",
              "      <td>0.0</td>\n",
              "      <td>0.0</td>\n",
              "      <td>...</td>\n",
              "      <td>0.0</td>\n",
              "      <td>0.0</td>\n",
              "      <td>0.0</td>\n",
              "      <td>0.0</td>\n",
              "      <td>0.0</td>\n",
              "      <td>0.0</td>\n",
              "      <td>1.0</td>\n",
              "      <td>0.0</td>\n",
              "      <td>0.0</td>\n",
              "      <td>0.208333</td>\n",
              "    </tr>\n",
              "    <tr>\n",
              "      <th>8521</th>\n",
              "      <td>0.158083</td>\n",
              "      <td>1.0</td>\n",
              "      <td>0.442219</td>\n",
              "      <td>0.304939</td>\n",
              "      <td>0.5</td>\n",
              "      <td>1.0</td>\n",
              "      <td>0.0</td>\n",
              "      <td>0.0</td>\n",
              "      <td>1.0</td>\n",
              "      <td>0.0</td>\n",
              "      <td>...</td>\n",
              "      <td>0.0</td>\n",
              "      <td>0.0</td>\n",
              "      <td>0.0</td>\n",
              "      <td>1.0</td>\n",
              "      <td>0.0</td>\n",
              "      <td>0.0</td>\n",
              "      <td>0.0</td>\n",
              "      <td>1.0</td>\n",
              "      <td>0.0</td>\n",
              "      <td>0.000000</td>\n",
              "    </tr>\n",
              "    <tr>\n",
              "      <th>8522</th>\n",
              "      <td>0.610003</td>\n",
              "      <td>0.0</td>\n",
              "      <td>0.136661</td>\n",
              "      <td>0.187510</td>\n",
              "      <td>0.0</td>\n",
              "      <td>0.0</td>\n",
              "      <td>0.0</td>\n",
              "      <td>0.0</td>\n",
              "      <td>0.0</td>\n",
              "      <td>0.0</td>\n",
              "      <td>...</td>\n",
              "      <td>0.0</td>\n",
              "      <td>0.0</td>\n",
              "      <td>0.0</td>\n",
              "      <td>0.0</td>\n",
              "      <td>1.0</td>\n",
              "      <td>0.0</td>\n",
              "      <td>1.0</td>\n",
              "      <td>0.0</td>\n",
              "      <td>0.0</td>\n",
              "      <td>0.500000</td>\n",
              "    </tr>\n",
              "  </tbody>\n",
              "</table>\n",
              "<p>8523 rows × 34 columns</p>\n",
              "</div>"
            ],
            "text/plain": [
              "      Item_Weight  Item_Fat_Content  Item_Visibility  Item_MRP  Outlet_Size  \\\n",
              "0        0.282525               0.0         0.048866  0.927507          0.5   \n",
              "1        0.081274               1.0         0.058705  0.072068          0.5   \n",
              "2        0.770765               0.0         0.051037  0.468288          0.5   \n",
              "3        0.871986               1.0         0.000000  0.640093          0.5   \n",
              "4        0.260494               0.0         0.000000  0.095805          1.0   \n",
              "...           ...               ...              ...       ...          ...   \n",
              "8518     0.137541               0.0         0.172914  0.777729          1.0   \n",
              "8519     0.227746               1.0         0.143069  0.326263          0.5   \n",
              "8520     0.359929               0.0         0.107148  0.228492          0.0   \n",
              "8521     0.158083               1.0         0.442219  0.304939          0.5   \n",
              "8522     0.610003               0.0         0.136661  0.187510          0.0   \n",
              "\n",
              "      Outlet_Location_Type  Outlet_Identifier_OUT013  \\\n",
              "0                      0.0                       0.0   \n",
              "1                      1.0                       0.0   \n",
              "2                      0.0                       0.0   \n",
              "3                      1.0                       0.0   \n",
              "4                      1.0                       1.0   \n",
              "...                    ...                       ...   \n",
              "8518                   1.0                       1.0   \n",
              "8519                   0.5                       0.0   \n",
              "8520                   0.5                       0.0   \n",
              "8521                   1.0                       0.0   \n",
              "8522                   0.0                       0.0   \n",
              "\n",
              "      Outlet_Identifier_OUT017  Outlet_Identifier_OUT018  \\\n",
              "0                          0.0                       0.0   \n",
              "1                          0.0                       1.0   \n",
              "2                          0.0                       0.0   \n",
              "3                          0.0                       0.0   \n",
              "4                          0.0                       0.0   \n",
              "...                        ...                       ...   \n",
              "8518                       0.0                       0.0   \n",
              "8519                       0.0                       0.0   \n",
              "8520                       0.0                       0.0   \n",
              "8521                       0.0                       1.0   \n",
              "8522                       0.0                       0.0   \n",
              "\n",
              "      Outlet_Identifier_OUT019  ...  Item_Type_Meat  Item_Type_Others  \\\n",
              "0                          0.0  ...             0.0               0.0   \n",
              "1                          0.0  ...             0.0               0.0   \n",
              "2                          0.0  ...             1.0               0.0   \n",
              "3                          0.0  ...             0.0               0.0   \n",
              "4                          0.0  ...             0.0               0.0   \n",
              "...                        ...  ...             ...               ...   \n",
              "8518                       0.0  ...             0.0               0.0   \n",
              "8519                       0.0  ...             0.0               0.0   \n",
              "8520                       0.0  ...             0.0               0.0   \n",
              "8521                       0.0  ...             0.0               0.0   \n",
              "8522                       0.0  ...             0.0               0.0   \n",
              "\n",
              "      Item_Type_Seafood  Item_Type_Snack Foods  Item_Type_Soft Drinks  \\\n",
              "0                   0.0                    0.0                    0.0   \n",
              "1                   0.0                    0.0                    1.0   \n",
              "2                   0.0                    0.0                    0.0   \n",
              "3                   0.0                    0.0                    0.0   \n",
              "4                   0.0                    0.0                    0.0   \n",
              "...                 ...                    ...                    ...   \n",
              "8518                0.0                    1.0                    0.0   \n",
              "8519                0.0                    0.0                    0.0   \n",
              "8520                0.0                    0.0                    0.0   \n",
              "8521                0.0                    1.0                    0.0   \n",
              "8522                0.0                    0.0                    1.0   \n",
              "\n",
              "      Item_Type_Starchy Foods  Outlet_Type_Supermarket Type1  \\\n",
              "0                         0.0                            1.0   \n",
              "1                         0.0                            0.0   \n",
              "2                         0.0                            1.0   \n",
              "3                         0.0                            0.0   \n",
              "4                         0.0                            1.0   \n",
              "...                       ...                            ...   \n",
              "8518                      0.0                            1.0   \n",
              "8519                      0.0                            1.0   \n",
              "8520                      0.0                            1.0   \n",
              "8521                      0.0                            0.0   \n",
              "8522                      0.0                            1.0   \n",
              "\n",
              "      Outlet_Type_Supermarket Type2  Outlet_Type_Supermarket Type3  EST_YEAR  \n",
              "0                               0.0                            0.0  0.416667  \n",
              "1                               1.0                            0.0  0.000000  \n",
              "2                               0.0                            0.0  0.416667  \n",
              "3                               0.0                            0.0  0.458333  \n",
              "4                               0.0                            0.0  0.916667  \n",
              "...                             ...                            ...       ...  \n",
              "8518                            0.0                            0.0  0.916667  \n",
              "8519                            0.0                            0.0  0.291667  \n",
              "8520                            0.0                            0.0  0.208333  \n",
              "8521                            1.0                            0.0  0.000000  \n",
              "8522                            0.0                            0.0  0.500000  \n",
              "\n",
              "[8523 rows x 34 columns]"
            ]
          },
          "execution_count": 54,
          "metadata": {},
          "output_type": "execute_result"
        }
      ],
      "source": [
        "nor_scaler = MinMaxScaler()\n",
        "x_nor_df = nor_scaler.fit_transform(x)\n",
        "x_nor_df\n",
        "\n",
        "x_df = pd.DataFrame(x_nor_df, columns = x.columns)\n",
        "x_df"
      ]
    },
    {
      "cell_type": "markdown",
      "id": "34b8b008",
      "metadata": {
        "id": "34b8b008"
      },
      "source": [
        "# Train Test Split"
      ]
    },
    {
      "cell_type": "code",
      "execution_count": null,
      "id": "901f6928",
      "metadata": {
        "id": "901f6928"
      },
      "outputs": [],
      "source": [
        "x_train,x_test,y_train,y_test = train_test_split(x_df,y,test_size=0.2,random_state=1)"
      ]
    },
    {
      "cell_type": "code",
      "execution_count": null,
      "id": "c16b8553",
      "metadata": {
        "id": "c16b8553"
      },
      "outputs": [],
      "source": [
        "# x_train"
      ]
    },
    {
      "cell_type": "markdown",
      "id": "6370d9cb",
      "metadata": {
        "id": "6370d9cb"
      },
      "source": [
        "# Model Training"
      ]
    },
    {
      "cell_type": "code",
      "execution_count": null,
      "id": "e24325fe",
      "metadata": {
        "id": "e24325fe",
        "outputId": "a3c12e83-689d-4875-cec0-48f8ec7b3994"
      },
      "outputs": [
        {
          "data": {
            "text/html": [
              "<style>#sk-container-id-2 {color: black;background-color: white;}#sk-container-id-2 pre{padding: 0;}#sk-container-id-2 div.sk-toggleable {background-color: white;}#sk-container-id-2 label.sk-toggleable__label {cursor: pointer;display: block;width: 100%;margin-bottom: 0;padding: 0.3em;box-sizing: border-box;text-align: center;}#sk-container-id-2 label.sk-toggleable__label-arrow:before {content: \"▸\";float: left;margin-right: 0.25em;color: #696969;}#sk-container-id-2 label.sk-toggleable__label-arrow:hover:before {color: black;}#sk-container-id-2 div.sk-estimator:hover label.sk-toggleable__label-arrow:before {color: black;}#sk-container-id-2 div.sk-toggleable__content {max-height: 0;max-width: 0;overflow: hidden;text-align: left;background-color: #f0f8ff;}#sk-container-id-2 div.sk-toggleable__content pre {margin: 0.2em;color: black;border-radius: 0.25em;background-color: #f0f8ff;}#sk-container-id-2 input.sk-toggleable__control:checked~div.sk-toggleable__content {max-height: 200px;max-width: 100%;overflow: auto;}#sk-container-id-2 input.sk-toggleable__control:checked~label.sk-toggleable__label-arrow:before {content: \"▾\";}#sk-container-id-2 div.sk-estimator input.sk-toggleable__control:checked~label.sk-toggleable__label {background-color: #d4ebff;}#sk-container-id-2 div.sk-label input.sk-toggleable__control:checked~label.sk-toggleable__label {background-color: #d4ebff;}#sk-container-id-2 input.sk-hidden--visually {border: 0;clip: rect(1px 1px 1px 1px);clip: rect(1px, 1px, 1px, 1px);height: 1px;margin: -1px;overflow: hidden;padding: 0;position: absolute;width: 1px;}#sk-container-id-2 div.sk-estimator {font-family: monospace;background-color: #f0f8ff;border: 1px dotted black;border-radius: 0.25em;box-sizing: border-box;margin-bottom: 0.5em;}#sk-container-id-2 div.sk-estimator:hover {background-color: #d4ebff;}#sk-container-id-2 div.sk-parallel-item::after {content: \"\";width: 100%;border-bottom: 1px solid gray;flex-grow: 1;}#sk-container-id-2 div.sk-label:hover label.sk-toggleable__label {background-color: #d4ebff;}#sk-container-id-2 div.sk-serial::before {content: \"\";position: absolute;border-left: 1px solid gray;box-sizing: border-box;top: 0;bottom: 0;left: 50%;z-index: 0;}#sk-container-id-2 div.sk-serial {display: flex;flex-direction: column;align-items: center;background-color: white;padding-right: 0.2em;padding-left: 0.2em;position: relative;}#sk-container-id-2 div.sk-item {position: relative;z-index: 1;}#sk-container-id-2 div.sk-parallel {display: flex;align-items: stretch;justify-content: center;background-color: white;position: relative;}#sk-container-id-2 div.sk-item::before, #sk-container-id-2 div.sk-parallel-item::before {content: \"\";position: absolute;border-left: 1px solid gray;box-sizing: border-box;top: 0;bottom: 0;left: 50%;z-index: -1;}#sk-container-id-2 div.sk-parallel-item {display: flex;flex-direction: column;z-index: 1;position: relative;background-color: white;}#sk-container-id-2 div.sk-parallel-item:first-child::after {align-self: flex-end;width: 50%;}#sk-container-id-2 div.sk-parallel-item:last-child::after {align-self: flex-start;width: 50%;}#sk-container-id-2 div.sk-parallel-item:only-child::after {width: 0;}#sk-container-id-2 div.sk-dashed-wrapped {border: 1px dashed gray;margin: 0 0.4em 0.5em 0.4em;box-sizing: border-box;padding-bottom: 0.4em;background-color: white;}#sk-container-id-2 div.sk-label label {font-family: monospace;font-weight: bold;display: inline-block;line-height: 1.2em;}#sk-container-id-2 div.sk-label-container {text-align: center;}#sk-container-id-2 div.sk-container {/* jupyter's `normalize.less` sets `[hidden] { display: none; }` but bootstrap.min.css set `[hidden] { display: none !important; }` so we also need the `!important` here to be able to override the default hidden behavior on the sphinx rendered scikit-learn.org. See: https://github.com/scikit-learn/scikit-learn/issues/21755 */display: inline-block !important;position: relative;}#sk-container-id-2 div.sk-text-repr-fallback {display: none;}</style><div id=\"sk-container-id-2\" class=\"sk-top-container\"><div class=\"sk-text-repr-fallback\"><pre>KNeighborsRegressor(n_neighbors=7)</pre><b>In a Jupyter environment, please rerun this cell to show the HTML representation or trust the notebook. <br />On GitHub, the HTML representation is unable to render, please try loading this page with nbviewer.org.</b></div><div class=\"sk-container\" hidden><div class=\"sk-item\"><div class=\"sk-estimator sk-toggleable\"><input class=\"sk-toggleable__control sk-hidden--visually\" id=\"sk-estimator-id-2\" type=\"checkbox\" checked><label for=\"sk-estimator-id-2\" class=\"sk-toggleable__label sk-toggleable__label-arrow\">KNeighborsRegressor</label><div class=\"sk-toggleable__content\"><pre>KNeighborsRegressor(n_neighbors=7)</pre></div></div></div></div></div>"
            ],
            "text/plain": [
              "KNeighborsRegressor(n_neighbors=7)"
            ]
          },
          "execution_count": 68,
          "metadata": {},
          "output_type": "execute_result"
        }
      ],
      "source": [
        "knn_model = KNeighborsRegressor(n_neighbors=7, p = 2)\n",
        "knn_model.fit(x_train,y_train)"
      ]
    },
    {
      "cell_type": "code",
      "execution_count": null,
      "id": "a168866e",
      "metadata": {
        "id": "a168866e",
        "outputId": "b52bfe1e-2099-401b-ea82-0127ae78482d"
      },
      "outputs": [
        {
          "data": {
            "text/plain": [
              "array([ 738.3722    , 1226.87917143, 2690.4978    ,  849.27545714,\n",
              "       1063.75817143])"
            ]
          },
          "execution_count": 69,
          "metadata": {},
          "output_type": "execute_result"
        }
      ],
      "source": [
        "y_pred = knn_model.predict(x_test)\n",
        "y_pred[:5]"
      ]
    },
    {
      "cell_type": "code",
      "execution_count": null,
      "id": "a2003512",
      "metadata": {
        "id": "a2003512",
        "outputId": "e5be55df-6a85-44da-d696-1a5bc40105c4"
      },
      "outputs": [
        {
          "data": {
            "text/plain": [
              "1070     952.7598\n",
              "6305    1133.8574\n",
              "8504    4138.6128\n",
              "5562    1657.1762\n",
              "1410     679.1160\n",
              "Name: Item_Outlet_Sales, dtype: float64"
            ]
          },
          "execution_count": 71,
          "metadata": {},
          "output_type": "execute_result"
        }
      ],
      "source": [
        "y_test[:5]"
      ]
    },
    {
      "cell_type": "code",
      "execution_count": null,
      "id": "c36c78b9",
      "metadata": {
        "id": "c36c78b9",
        "outputId": "e3f7cd25-eba7-4119-a4c7-335304fdbb6e"
      },
      "outputs": [
        {
          "data": {
            "text/plain": [
              "array([2261.45628, 1593.65888, 2611.53392, 2415.5224 ,  349.27868])"
            ]
          },
          "execution_count": 61,
          "metadata": {},
          "output_type": "execute_result"
        }
      ],
      "source": [
        "y_pred[10:15]"
      ]
    },
    {
      "cell_type": "code",
      "execution_count": null,
      "id": "c33684b5",
      "metadata": {
        "id": "c33684b5",
        "outputId": "b2fe2467-ad29-4167-cc0f-2e7a29737b00"
      },
      "outputs": [
        {
          "data": {
            "text/plain": [
              "2706     747.0276\n",
              "7277     423.4488\n",
              "3057    2736.4380\n",
              "4402    2021.3688\n",
              "2963     397.4826\n",
              "Name: Item_Outlet_Sales, dtype: float64"
            ]
          },
          "execution_count": 62,
          "metadata": {},
          "output_type": "execute_result"
        }
      ],
      "source": [
        "y_test[10:15]"
      ]
    },
    {
      "cell_type": "markdown",
      "id": "f2318b49",
      "metadata": {
        "id": "f2318b49"
      },
      "source": [
        "# Evaluation"
      ]
    },
    {
      "cell_type": "code",
      "execution_count": null,
      "id": "1a573795",
      "metadata": {
        "id": "1a573795",
        "outputId": "3be53eaf-1fc5-401c-e23e-53c6c93d114b"
      },
      "outputs": [
        {
          "data": {
            "text/plain": [
              "1558120.67201407"
            ]
          },
          "execution_count": 72,
          "metadata": {},
          "output_type": "execute_result"
        }
      ],
      "source": [
        "mse = mean_squared_error(y_test,y_pred)\n",
        "mse"
      ]
    },
    {
      "cell_type": "code",
      "execution_count": null,
      "id": "c88ffcce",
      "metadata": {
        "id": "c88ffcce",
        "outputId": "a8ffb107-8aa4-446a-b8ed-d4339d641bae"
      },
      "outputs": [
        {
          "data": {
            "text/plain": [
              "1248.2470396576432"
            ]
          },
          "execution_count": 73,
          "metadata": {},
          "output_type": "execute_result"
        }
      ],
      "source": [
        "rmse = np.sqrt(mse)\n",
        "rmse"
      ]
    },
    {
      "cell_type": "code",
      "execution_count": null,
      "id": "f8d5baf4",
      "metadata": {
        "id": "f8d5baf4",
        "outputId": "c7591877-34b8-4328-81f6-5a75beb2a25a"
      },
      "outputs": [
        {
          "data": {
            "text/plain": [
              "0.4743747153136938"
            ]
          },
          "execution_count": 74,
          "metadata": {},
          "output_type": "execute_result"
        }
      ],
      "source": [
        "r2_score(y_test,y_pred)"
      ]
    },
    {
      "cell_type": "code",
      "execution_count": null,
      "id": "af7febf4",
      "metadata": {
        "id": "af7febf4",
        "outputId": "d1ce67cd-3c40-47e4-8e6d-7cdb8029bb54"
      },
      "outputs": [
        {
          "data": {
            "text/plain": [
              "0.4743747153136938"
            ]
          },
          "execution_count": 75,
          "metadata": {},
          "output_type": "execute_result"
        }
      ],
      "source": [
        "knn_model.score(x_test,y_test)"
      ]
    },
    {
      "cell_type": "code",
      "execution_count": null,
      "id": "5624c84d",
      "metadata": {
        "id": "5624c84d"
      },
      "outputs": [],
      "source": []
    }
  ],
  "metadata": {
    "kernelspec": {
      "display_name": "Python 3",
      "language": "python",
      "name": "python3"
    },
    "language_info": {
      "codemirror_mode": {
        "name": "ipython",
        "version": 3
      },
      "file_extension": ".py",
      "mimetype": "text/x-python",
      "name": "python",
      "nbconvert_exporter": "python",
      "pygments_lexer": "ipython3",
      "version": "3.8.8"
    },
    "colab": {
      "provenance": []
    }
  },
  "nbformat": 4,
  "nbformat_minor": 5
}